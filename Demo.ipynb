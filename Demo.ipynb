{
  "nbformat": 4,
  "nbformat_minor": 0,
  "metadata": {
    "colab": {
      "provenance": [],
      "authorship_tag": "ABX9TyM7IAbfvJDz5H74Tmked34D",
      "include_colab_link": true
    },
    "kernelspec": {
      "name": "python3",
      "display_name": "Python 3"
    },
    "language_info": {
      "name": "python"
    }
  },
  "cells": [
    {
      "cell_type": "markdown",
      "metadata": {
        "id": "view-in-github",
        "colab_type": "text"
      },
      "source": [
        "<a href=\"https://colab.research.google.com/github/demo-student-lbsocial/test-colab/blob/main/Demo.ipynb\" target=\"_parent\"><img src=\"https://colab.research.google.com/assets/colab-badge.svg\" alt=\"Open In Colab\"/></a>"
      ]
    },
    {
      "cell_type": "markdown",
      "source": [
        "# Demo"
      ],
      "metadata": {
        "id": "fYEtqWJbyo1Y"
      }
    },
    {
      "cell_type": "code",
      "source": [
        "    from google.colab import drive\n",
        "    drive.mount('/content/drive')"
      ],
      "metadata": {
        "colab": {
          "base_uri": "https://localhost:8080/"
        },
        "id": "n4GjFAqOyyf1",
        "outputId": "6cd4a701-874e-4886-abd1-0d991d4d4307"
      },
      "execution_count": 1,
      "outputs": [
        {
          "output_type": "stream",
          "name": "stdout",
          "text": [
            "Mounted at /content/drive\n"
          ]
        }
      ]
    },
    {
      "cell_type": "code",
      "metadata": {
        "colab": {
          "base_uri": "https://localhost:8080/"
        },
        "id": "e517c46f",
        "outputId": "b32acaaf-a8d1-4987-a27c-f72c01a32e32"
      },
      "source": [
        "!pip install pymongo"
      ],
      "execution_count": 3,
      "outputs": [
        {
          "output_type": "stream",
          "name": "stdout",
          "text": [
            "Requirement already satisfied: pymongo in /usr/local/lib/python3.12/dist-packages (4.15.3)\n",
            "Requirement already satisfied: dnspython<3.0.0,>=1.16.0 in /usr/local/lib/python3.12/dist-packages (from pymongo) (2.8.0)\n"
          ]
        }
      ]
    },
    {
      "cell_type": "code",
      "metadata": {
        "colab": {
          "base_uri": "https://localhost:8080/"
        },
        "id": "362a746b",
        "outputId": "495b5ffa-2194-42dc-be8d-1d224aec5002"
      },
      "source": [
        "tweet_count = collection.count_documents({})\n",
        "print(f\"Total number of tweets: {tweet_count}\")"
      ],
      "execution_count": 5,
      "outputs": [
        {
          "output_type": "stream",
          "name": "stdout",
          "text": [
            "Total number of tweets: 182\n"
          ]
        }
      ]
    },
    {
      "cell_type": "code",
      "metadata": {
        "colab": {
          "base_uri": "https://localhost:8080/"
        },
        "id": "a5f60bee",
        "outputId": "1d538ad7-7185-496c-e9e0-77b179cc1b4a"
      },
      "source": [
        "from google.colab import userdata\n",
        "from pymongo import MongoClient\n",
        "\n",
        "# Replace with your MongoDB connection string stored in Colab secrets\n",
        "MONGO_URI = userdata.get('mongodb_connect')\n",
        "\n",
        "# Connect to MongoDB\n",
        "client = MongoClient(MONGO_URI)\n",
        "\n",
        "# Access the database and collection\n",
        "db = client.demo\n",
        "collection = db.tweet_collection\n",
        "\n",
        "print(\"Successfully connected to MongoDB!\")\n",
        "# You can now work with the 'collection' object to access your tweets"
      ],
      "execution_count": 4,
      "outputs": [
        {
          "output_type": "stream",
          "name": "stdout",
          "text": [
            "Successfully connected to MongoDB!\n"
          ]
        }
      ]
    },
    {
      "cell_type": "code",
      "metadata": {
        "colab": {
          "base_uri": "https://localhost:8080/"
        },
        "id": "751cd3cf",
        "outputId": "a61e414a-17db-4101-9766-8d4f4eec57f1"
      },
      "source": [
        "# Calculate Degree Centrality\n",
        "degree_centrality = nx.degree_centrality(G)\n",
        "print(\"Degree Centrality:\")\n",
        "for user, centrality in sorted(degree_centrality.items(), key=lambda item: item[1], reverse=True)[:10]:\n",
        "    print(f\"{user}: {centrality:.4f}\")\n",
        "\n",
        "# Calculate Betweenness Centrality\n",
        "betweenness_centrality = nx.betweenness_centrality(G)\n",
        "print(\"\\nBetweenness Centrality:\")\n",
        "for user, centrality in sorted(betweenness_centrality.items(), key=lambda item: item[1], reverse=True)[:10]:\n",
        "    print(f\"{user}: {centrality:.4f}\")\n",
        "\n",
        "# Calculate Closeness Centrality\n",
        "closeness_centrality = nx.closeness_centrality(G)\n",
        "print(\"\\nCloseness Centrality:\")\n",
        "for user, centrality in sorted(closeness_centrality.items(), key=lambda item: item[1], reverse=True)[:10]:\n",
        "    print(f\"{user}: {centrality:.4f}\")"
      ],
      "execution_count": 14,
      "outputs": [
        {
          "output_type": "stream",
          "name": "stdout",
          "text": [
            "Degree Centrality:\n",
            "AmandaDannielle: 0.4199\n",
            "myexamcloud: 0.0552\n",
            "Ronald_vanLoon: 0.0387\n",
            "helpnetsecurity: 0.0276\n",
            "Transform_Sec: 0.0221\n",
            "bratsupernova: 0.0221\n",
            "Corix_JC: 0.0221\n",
            "R_Demidchuk: 0.0221\n",
            "HaywaaWorldwide: 0.0166\n",
            "Khulood_Almani: 0.0166\n",
            "\n",
            "Betweenness Centrality:\n",
            "Ronald_vanLoon: 0.0003\n",
            "Transform_Sec: 0.0002\n",
            "Corix_JC: 0.0001\n",
            "grok: 0.0000\n",
            "xboxmayn: 0.0000\n",
            "roastbrief: 0.0000\n",
            "ZorayaMejia: 0.0000\n",
            "DCOD_Ai: 0.0000\n",
            "HaywaaWorldwide: 0.0000\n",
            "DataDropai: 0.0000\n",
            "\n",
            "Closeness Centrality:\n",
            "AmandaDannielle: 0.4199\n",
            "myexamcloud: 0.0448\n",
            "helpnetsecurity: 0.0276\n",
            "bratsupernova: 0.0221\n",
            "Transform_Sec: 0.0197\n",
            "Ronald_vanLoon: 0.0166\n",
            "Khulood_Almani: 0.0166\n",
            "Kurz_Gesagt: 0.0166\n",
            "LAW2025_NeurIPS: 0.0153\n",
            "Python_Dv: 0.0147\n"
          ]
        }
      ]
    },
    {
      "cell_type": "code",
      "metadata": {
        "colab": {
          "base_uri": "https://localhost:8080/"
        },
        "id": "9249a527",
        "outputId": "373aa39c-4baa-4f6a-ea8f-af8c139996b7"
      },
      "source": [
        "import networkx as nx\n",
        "\n",
        "# Create a directed graph\n",
        "G = nx.DiGraph()\n",
        "\n",
        "# Iterate through the tweets and add edges to the graph\n",
        "for tweet in tweets:\n",
        "    # Extract the author's username\n",
        "    author = tweet['user']['username']\n",
        "\n",
        "    # Extract mentioned users from the tweet text\n",
        "    # This is a basic approach and might need refinement based on tweet structure\n",
        "    if 'entities' in tweet['tweet'] and 'mentions' in tweet['tweet']['entities']:\n",
        "        for mention in tweet['tweet']['entities']['mentions']:\n",
        "            mentioned_user = mention['username']\n",
        "            # Add an edge from the author to the mentioned user\n",
        "            G.add_edge(author, mentioned_user)\n",
        "\n",
        "print(f\"Network graph created with {G.number_of_nodes()} nodes and {G.number_of_edges()} edges.\")"
      ],
      "execution_count": 13,
      "outputs": [
        {
          "output_type": "stream",
          "name": "stdout",
          "text": [
            "Network graph created with 182 nodes and 156 edges.\n"
          ]
        }
      ]
    },
    {
      "cell_type": "code",
      "metadata": {
        "id": "3feed13c"
      },
      "source": [
        "# Retrieve all tweets from the collection\n",
        "tweets = collection.find({})\n",
        "\n",
        "# You can iterate through the 'tweets' object to process each tweet\n",
        "# For example, to print the first 5 tweets:\n",
        "# for i, tweet in enumerate(tweets):\n",
        "#     if i < 5:\n",
        "#         print(tweet)\n",
        "#     else:\n",
        "#         break"
      ],
      "execution_count": 12,
      "outputs": []
    },
    {
      "cell_type": "code",
      "metadata": {
        "colab": {
          "base_uri": "https://localhost:8080/"
        },
        "id": "a73cd829",
        "outputId": "1bc77e03-6344-430a-adb9-1481000dc18d"
      },
      "source": [
        "!pip install networkx"
      ],
      "execution_count": 11,
      "outputs": [
        {
          "output_type": "stream",
          "name": "stdout",
          "text": [
            "Requirement already satisfied: networkx in /usr/local/lib/python3.12/dist-packages (3.5)\n"
          ]
        }
      ]
    },
    {
      "cell_type": "markdown",
      "metadata": {
        "id": "41310d11"
      },
      "source": [
        "# Task\n",
        "Build an interactive network visualization of the Twitter mention network, where node size represents degree centrality, node color represents betweenness centrality, and nodes are labeled with Twitter usernames."
      ]
    },
    {
      "cell_type": "markdown",
      "metadata": {
        "id": "cd6c79c9"
      },
      "source": [
        "## Install visualization library\n",
        "\n",
        "### Subtask:\n",
        "Install a library capable of interactive network visualizations (e.g., `plotly`).\n"
      ]
    },
    {
      "cell_type": "markdown",
      "metadata": {
        "id": "96ca82d5"
      },
      "source": [
        "**Reasoning**:\n",
        "The subtask is to install a library capable of interactive network visualizations. The instructions specifically mention installing `plotly` using pip.\n",
        "\n"
      ]
    },
    {
      "cell_type": "code",
      "metadata": {
        "colab": {
          "base_uri": "https://localhost:8080/"
        },
        "id": "42064269",
        "outputId": "3efc68ff-bed5-42d8-e591-5a043485ab9d"
      },
      "source": [
        "!pip install plotly"
      ],
      "execution_count": 15,
      "outputs": [
        {
          "output_type": "stream",
          "name": "stdout",
          "text": [
            "Requirement already satisfied: plotly in /usr/local/lib/python3.12/dist-packages (5.24.1)\n",
            "Requirement already satisfied: tenacity>=6.2.0 in /usr/local/lib/python3.12/dist-packages (from plotly) (8.5.0)\n",
            "Requirement already satisfied: packaging in /usr/local/lib/python3.12/dist-packages (from plotly) (25.0)\n"
          ]
        }
      ]
    },
    {
      "cell_type": "markdown",
      "metadata": {
        "id": "4950ba19"
      },
      "source": [
        "## Prepare node data\n",
        "\n",
        "### Subtask:\n",
        "Extract and prepare the degree and betweenness centrality values for each node, along with the usernames for labels.\n"
      ]
    },
    {
      "cell_type": "markdown",
      "metadata": {
        "id": "91007733"
      },
      "source": [
        "**Reasoning**:\n",
        "Create a list of node data with usernames and their centrality values.\n",
        "\n"
      ]
    },
    {
      "cell_type": "code",
      "metadata": {
        "id": "1aa1e11e"
      },
      "source": [
        "node_data = []\n",
        "for user in G.nodes():\n",
        "    node_data.append({\n",
        "        'username': user,\n",
        "        'degree_centrality': degree_centrality[user],\n",
        "        'betweenness_centrality': betweenness_centrality[user]\n",
        "    })"
      ],
      "execution_count": 16,
      "outputs": []
    },
    {
      "cell_type": "markdown",
      "metadata": {
        "id": "ef1293c3"
      },
      "source": [
        "## Create the interactive visualization\n",
        "\n",
        "### Subtask:\n",
        "Use the chosen library to generate the interactive network plot.\n"
      ]
    },
    {
      "cell_type": "markdown",
      "metadata": {
        "id": "f6002eee"
      },
      "source": [
        "**Reasoning**:\n",
        "Generate the interactive network plot using plotly, incorporating node positions, edges, and node attributes for color, size, and labels.\n",
        "\n"
      ]
    },
    {
      "cell_type": "code",
      "metadata": {
        "colab": {
          "base_uri": "https://localhost:8080/",
          "height": 542
        },
        "id": "caaa1282",
        "outputId": "ac222144-3e7f-4a36-9504-c1d1a3a87bcb"
      },
      "source": [
        "import plotly.graph_objects as go\n",
        "import networkx as nx\n",
        "\n",
        "# Use a layout algorithm to get node positions\n",
        "pos = nx.spring_layout(G)\n",
        "\n",
        "# Create lists for the x and y coordinates of the nodes\n",
        "node_x = []\n",
        "node_y = []\n",
        "for node in G.nodes():\n",
        "    x, y = pos[node]\n",
        "    node_x.append(x)\n",
        "    node_y.append(y)\n",
        "\n",
        "# Create lists for the x and y coordinates of the edges\n",
        "edge_x = []\n",
        "edge_y = []\n",
        "for edge in G.edges():\n",
        "    x0, y0 = pos[edge[0]]\n",
        "    x1, y1 = pos[edge[1]]\n",
        "    edge_x.append(x0)\n",
        "    edge_x.append(x1)\n",
        "    edge_x.append(None)\n",
        "    edge_y.append(y0)\n",
        "    edge_y.append(y1)\n",
        "    edge_y.append(None)\n",
        "\n",
        "# Create a Scatter object for the edges\n",
        "edge_trace = go.Scatter(\n",
        "    x=edge_x, y=edge_y,\n",
        "    line=dict(width=0.5, color='#888'),\n",
        "    hoverinfo='none',\n",
        "    mode='lines')\n",
        "\n",
        "# Create a Scatter object for the nodes\n",
        "node_trace = go.Scatter(\n",
        "    x=node_x, y=node_y,\n",
        "    mode='markers',\n",
        "    hoverinfo='text',\n",
        "    marker=dict(\n",
        "        showscale=True,\n",
        "        colorscale='YlGnBu',\n",
        "        reversescale=True,\n",
        "        color=[],\n",
        "        size=10,\n",
        "        colorbar=dict(\n",
        "            thickness=15,\n",
        "            title='Betweenness Centrality',\n",
        "            xanchor='left',\n",
        "            titleside='right'\n",
        "        ),\n",
        "        line_width=2))\n",
        "\n",
        "# Add node attributes to the node trace\n",
        "node_colors = []\n",
        "node_sizes = []\n",
        "node_text = []\n",
        "for node in G.nodes():\n",
        "    node_colors.append(betweenness_centrality[node])\n",
        "    node_sizes.append(degree_centrality[node] * 50) # Scale the size for better visualization\n",
        "    node_text.append(f\"User: {node}<br>Degree Centrality: {degree_centrality[node]:.4f}<br>Betweenness Centrality: {betweenness_centrality[node]:.4f}\")\n",
        "\n",
        "node_trace.marker.color = node_colors\n",
        "node_trace.marker.size = node_sizes\n",
        "node_trace.text = node_text\n",
        "\n",
        "# Create the figure\n",
        "fig = go.Figure(data=[edge_trace, node_trace],\n",
        "             layout=go.Layout(\n",
        "                title='Twitter Mention Network',\n",
        "                titlefont_size=16,\n",
        "                showlegend=False,\n",
        "                hovermode='closest',\n",
        "                margin=dict(b=20,l=5,r=5,t=40),\n",
        "                annotations=[ dict(\n",
        "                    text=\"Python code for plotting Twitter mention network with plotly\",\n",
        "                    showarrow=False,\n",
        "                    xref=\"paper\", yref=\"paper\",\n",
        "                    x=0.005, y=-0.002 ) ],\n",
        "                xaxis=dict(showgrid=False, zeroline=False, showticklabels=False),\n",
        "                yaxis=dict(showgrid=False, zeroline=False, showticklabels=False))\n",
        "                )\n",
        "\n",
        "fig.show()"
      ],
      "execution_count": 17,
      "outputs": [
        {
          "output_type": "display_data",
          "data": {
            "text/html": [
              "<html>\n",
              "<head><meta charset=\"utf-8\" /></head>\n",
              "<body>\n",
              "    <div>            <script src=\"https://cdnjs.cloudflare.com/ajax/libs/mathjax/2.7.5/MathJax.js?config=TeX-AMS-MML_SVG\"></script><script type=\"text/javascript\">if (window.MathJax && window.MathJax.Hub && window.MathJax.Hub.Config) {window.MathJax.Hub.Config({SVG: {font: \"STIX-Web\"}});}</script>                <script type=\"text/javascript\">window.PlotlyConfig = {MathJaxConfig: 'local'};</script>\n",
              "        <script charset=\"utf-8\" src=\"https://cdn.plot.ly/plotly-2.35.2.min.js\"></script>                <div id=\"fe3f4619-0326-4758-b656-64878a5346fd\" class=\"plotly-graph-div\" style=\"height:525px; width:100%;\"></div>            <script type=\"text/javascript\">                                    window.PLOTLYENV=window.PLOTLYENV || {};                                    if (document.getElementById(\"fe3f4619-0326-4758-b656-64878a5346fd\")) {                    Plotly.newPlot(                        \"fe3f4619-0326-4758-b656-64878a5346fd\",                        [{\"hoverinfo\":\"none\",\"line\":{\"color\":\"#888\",\"width\":0.5},\"mode\":\"lines\",\"x\":[0.6175000406624689,0.5856712847020337,null,-0.23062774806875008,-0.24214087590032624,null,-0.24214087590032624,-0.24214087590032624,null,0.3405190555125156,0.79686392523766,null,0.3405190555125156,-0.11463969286936629,null,0.1252454330785401,0.19581880943672625,null,0.1433312899446192,0.19581880943672625,null,0.2036991193909268,0.19581880943672625,null,0.11137818304960191,0.19581880943672625,null,0.2560062366806925,0.19581880943672625,null,0.09570999638190449,0.19581880943672625,null,0.15831327207843585,0.19581880943672625,null,-0.46931991907549236,-0.5328459563937727,null,-0.5328459563937727,-0.5328459563937727,null,0.12706618555078053,0.30400651444598464,null,0.12706618555078053,-0.04428923807701916,null,0.30400651444598464,-0.04428923807701916,null,0.30400651444598464,0.8395378369422897,null,0.30400651444598464,-0.3182890458843081,null,0.30400651444598464,0.7754602992012476,null,0.10999028049725346,0.19581880943672625,null,0.13059559194599377,0.19581880943672625,null,0.15152705905888225,0.19581880943672625,null,-0.6340532122387785,-0.6922976470791314,null,0.18314558830685684,0.19581880943672625,null,0.2065964088176379,0.19581880943672625,null,0.11530465723302241,0.19581880943672625,null,-0.10667455304696874,0.5949503063276342,null,-0.10667455304696874,-0.8098899938660316,null,0.5949503063276342,0.6687940557388371,null,0.7754069822903062,0.7435342805091208,null,-0.18769870218112295,0.30400651444598464,null,-0.18769870218112295,-0.680169084467593,null,0.14477731774641214,0.19581880943672625,null,0.15676699322975912,0.19581880943672625,null,0.10631598726855182,0.19581880943672625,null,0.13851798091132037,0.19581880943672625,null,0.24336414936245485,0.19581880943672625,null,0.1457751020467638,0.19581880943672625,null,0.13998856300057178,0.19581880943672625,null,-0.44746017881683464,-0.5311371836866615,null,-0.10699519964451534,0.5949503063276342,null,-0.10699519964451534,-0.8098899938660316,null,-0.5844713711793587,-0.7906394410275995,null,0.09610453844476503,0.19581880943672625,null,0.11687296867174961,0.19581880943672625,null,0.11948223697788969,0.19581880943672625,null,0.16056298772624011,0.19581880943672625,null,0.23966157546784422,0.19581880943672625,null,-0.4935656597638579,-0.5328459563937727,null,-0.3436527948847924,-0.40798966998600783,null,-0.3262774033945001,-0.0176010263527236,null,-0.3262774033945001,-0.6359986663824713,null,0.3624271327063053,0.045414773312518926,null,0.3624271327063053,0.6815183766551931,null,0.045414773312518926,0.020413985345346677,null,0.17979992617484244,0.19581880943672625,null,-0.27041570175230795,-0.7815218987612098,null,-0.27041570175230795,0.24031390484675746,null,0.1822707212937121,0.19581880943672625,null,0.6386334507112956,0.7983801525006593,null,0.14230362963328014,0.19581880943672625,null,0.6285761955534176,0.7983801525006593,null,0.10530243874118239,0.19581880943672625,null,0.2187330684384475,0.19581880943672625,null,-0.45024022620301724,-0.5328459563937727,null,-0.18768435210640222,0.30400651444598464,null,-0.18768435210640222,-0.680169084467593,null,-0.8104421174605202,-0.8089485192877071,null,0.22470072775280303,0.19581880943672625,null,0.1305144842484131,0.19581880943672625,null,-0.5004592144179163,-0.6922976470791314,null,0.17266162125858303,0.19581880943672625,null,0.15493587935499853,0.19581880943672625,null,0.12794165068012425,0.10998787363175591,null,-0.4582234968034841,-0.10827195715248573,null,-0.4582234968034841,-0.8098899938660316,null,-0.10827195715248573,0.5949503063276342,null,-0.10827195715248573,-0.8098899938660316,null,-0.4587564945115015,-0.10827195715248573,null,-0.4587564945115015,-0.8098899938660316,null,-0.49785826452744014,-0.5328459563937727,null,0.15190975241233862,0.19581880943672625,null,0.11576706786139201,0.19581880943672625,null,0.1633688881686933,0.19581880943672625,null,0.20037492589842762,0.19581880943672625,null,0.1290210629305338,0.19581880943672625,null,0.1279301025840791,0.19581880943672625,null,0.23707341906156765,0.19581880943672625,null,-0.5908928332795954,-0.7906664658215764,null,-0.7964608108969868,-0.8089485192877071,null,0.17583260264698375,0.19581880943672625,null,0.16188299810532172,0.19581880943672625,null,-0.5555787880981843,-0.788751686461742,null,0.13004676093378842,0.19581880943672625,null,0.22029498261062883,0.19581880943672625,null,0.14455392588512006,0.19581880943672625,null,0.16947732667609774,0.19581880943672625,null,0.6283019506913877,0.7865838339945375,null,-0.20920513892703485,-0.2332355504775055,null,-0.5117330443487972,-0.5328459563937727,null,-0.5780796918997244,-0.8089485192877071,null,0.10234863874297777,0.19581880943672625,null,-0.5582048962962902,-0.7036510081018499,null,0.19957810939552545,0.19581880943672625,null,-0.5097003799881863,-0.5527711665338034,null,-0.432988571530393,-0.49785826452744014,null,0.2259715788610307,0.19581880943672625,null,0.1208658700302585,0.19581880943672625,null,0.12215967625624415,0.19581880943672625,null,0.10945607998552667,0.19581880943672625,null,0.23596098493904605,0.19581880943672625,null,-0.6755468603921287,-0.6495271894193025,null,-0.4246141204660603,-0.5527711665338034,null,0.1317911543516551,0.19581880943672625,null,0.10971018372795388,0.19581880943672625,null,0.21238343671447868,0.19581880943672625,null,-0.20882465042410145,-0.680169084467593,null,-0.20882465042410145,0.3323164623495637,null,-0.20882465042410145,-0.15235689084065077,null,-0.20882465042410145,-0.6749251857110816,null,0.17540219228170034,0.19581880943672625,null,0.14125446386331708,0.19581880943672625,null,0.1350006892856969,0.19581880943672625,null,0.12715867157459954,0.19581880943672625,null,0.10353387380978013,0.19581880943672625,null,0.19584694187146487,0.19581880943672625,null,-0.6892018227784636,-0.8089485192877071,null,0.12836233825136048,0.19581880943672625,null,0.12297934788109571,0.19581880943672625,null,0.14114840154417005,0.19581880943672625,null,0.11541941479004113,0.19581880943672625,null,0.25125169357608584,0.19581880943672625,null,0.5217938407498819,0.5960374987131589,null,-0.40031868140131166,-0.5328459563937727,null,0.14796869959664843,0.19581880943672625,null,-0.46402296568796003,-0.5916177290491823,null,0.5998092254220799,0.4937978731344405,null,0.5998092254220799,0.7077788824341272,null,0.13571498599071186,0.19581880943672625,null,0.7297898996157183,0.7983801525006593,null,0.10888808014721656,0.19581880943672625,null,0.19459700908506591,0.19581880943672625,null,-0.45798040473863644,-0.5328459563937727,null,-0.47024543051992135,-0.5328459563937727,null,0.5607113013514007,0.8052429903015813,null,0.5607113013514007,0.33036782898258976,null,-0.42527962375635725,-0.5137020981551247,null,-0.4702117390967852,-0.7323755691241225,null,0.5999642224840885,0.7248058644288464,null,-0.5754345971849768,-0.7556233524101679,null,0.14216587794520846,0.19581880943672625,null,0.5263333478786965,0.49351869963463996,null,0.16157268747160355,0.19581880943672625,null,0.11456239508438161,0.19581880943672625,null,0.11854134935749405,0.19581880943672625,null],\"y\":[-0.0749052051141785,-0.07162133527926624,null,0.9726551071962545,0.9505634950867857,null,0.9505634950867857,0.9505634950867857,null,0.4341632961150089,-0.09758380619772797,null,0.4341632961150089,0.9663503802459795,null,-0.5995972800168028,-0.5779870451356708,null,-0.38968685828677535,-0.5779870451356708,null,-0.6130947934626346,-0.5779870451356708,null,-0.45800727630404214,-0.5779870451356708,null,-0.565728814059353,-0.5779870451356708,null,-0.39316435398651767,-0.5779870451356708,null,-0.5809332937953029,-0.5779870451356708,null,0.6975252125971125,0.7384742897622936,null,0.7384742897622936,0.7384742897622936,null,0.7794920952788464,0.6397047375358897,null,0.7794920952788464,0.9305634003265382,null,0.6397047375358897,0.9305634003265382,null,0.6397047375358897,0.24382411153356548,null,0.6397047375358897,0.9414653887603879,null,0.6397047375358897,0.4888843556060612,null,-0.5464220033666659,-0.5779870451356708,null,-0.39108858748774444,-0.5779870451356708,null,-0.4537309485137021,-0.5779870451356708,null,-0.14732424752841553,-0.15619276401848667,null,-0.4959234458913675,-0.5779870451356708,null,-0.520929235048008,-0.5779870451356708,null,-0.5787222363946254,-0.5779870451356708,null,0.061094286438589135,0.06826778449612825,null,0.061094286438589135,0.05870828780666133,null,0.06826778449612825,0.07370503914271738,null,0.02397792026057352,0.023640535685093403,null,0.6368562203533322,0.6397047375358897,null,0.6368562203533322,0.6405960444729041,null,-0.41305889280836355,-0.5779870451356708,null,-0.5018311657570313,-0.5779870451356708,null,-0.38924313682102163,-0.5779870451356708,null,-0.5922375813722659,-0.5779870451356708,null,-0.54156001667804,-0.5779870451356708,null,-0.6076259838985477,-0.5779870451356708,null,-0.47974632624752434,-0.5779870451356708,null,-0.40385594610345094,-0.4867359104773417,null,0.06660247054854182,0.06826778449612825,null,0.06660247054854182,0.05870828780666133,null,0.3828801401415886,0.4673227063019006,null,-0.419073559874361,-0.5779870451356708,null,-0.40202893495083336,-0.5779870451356708,null,-0.419086483347089,-0.5779870451356708,null,-0.6247056794661728,-0.5779870451356708,null,-0.5638663224903907,-0.5779870451356708,null,0.7016337490354333,0.7384742897622936,null,0.7854870715771007,0.9185234847920299,null,0.2888700504135961,0.9718571790240962,null,0.2888700504135961,-0.39428423984643474,null,0.6987591486013931,0.9961287886954597,null,0.6987591486013931,0.40427349881622116,null,0.9961287886954597,0.9999999999999999,null,-0.5663890454268253,-0.5779870451356708,null,0.4978579329623463,0.15470221136724105,null,0.4978579329623463,0.8422681993699284,null,-0.46882703156359684,-0.5779870451356708,null,0.1519290723677125,0.17594630699533031,null,-0.5065047185055747,-0.5779870451356708,null,0.15705831220145036,0.17594630699533031,null,-0.4230811251614116,-0.5779870451356708,null,-0.5008253001040253,-0.5779870451356708,null,0.6580563589308709,0.7384742897622936,null,0.6410618746770256,0.6397047375358897,null,0.6410618746770256,0.6405960444729041,null,0.2710816754358755,0.294710987767596,null,-0.529769647342517,-0.5779870451356708,null,-0.5333673000783894,-0.5779870451356708,null,-0.11193422604830829,-0.15619276401848667,null,-0.4812633690948396,-0.5779870451356708,null,-0.47975751590316296,-0.5779870451356708,null,0.9285426459020714,0.9095415628188582,null,0.06380432116616958,0.06357784712844212,null,0.06380432116616958,0.05870828780666133,null,0.06357784712844212,0.06826778449612825,null,0.06357784712844212,0.05870828780666133,null,0.05891067417819973,0.06357784712844212,null,0.05891067417819973,0.05870828780666133,null,0.7253857491817092,0.7384742897622936,null,-0.4055284081364344,-0.5779870451356708,null,-0.4972454007967121,-0.5779870451356708,null,-0.4454880460788997,-0.5779870451356708,null,-0.5374671593952338,-0.5779870451356708,null,-0.47646186641107363,-0.5779870451356708,null,-0.5115726085597163,-0.5779870451356708,null,-0.5847033973275736,-0.5779870451356708,null,-0.059667661462076124,-0.09614364099665487,null,0.3146283242031642,0.294710987767596,null,-0.6183101746475159,-0.5779870451356708,null,-0.55407683666319,-0.5779870451356708,null,0.011030221693043588,-0.013400408468958265,null,-0.42620894637661366,-0.5779870451356708,null,-0.5861205584567205,-0.5779870451356708,null,-0.5763077003068618,-0.5779870451356708,null,-0.4960011841755005,-0.5779870451356708,null,0.283258371321397,0.332823414584173,null,0.6907734218290034,0.8738073067163351,null,0.69116658437042,0.7384742897622936,null,0.24310183187149711,0.294710987767596,null,-0.49083984188270985,-0.5779870451356708,null,-0.2555362352069483,-0.33178155182735053,null,-0.48141243756741664,-0.5779870451356708,null,-0.3682099402879459,-0.40071000782718064,null,0.6819292576212518,0.7253857491817092,null,-0.6062137318911424,-0.5779870451356708,null,-0.48386888868729555,-0.5779870451356708,null,-0.44864563498102494,-0.5779870451356708,null,-0.4125725290481236,-0.5779870451356708,null,-0.5187854997729962,-0.5779870451356708,null,0.4884056435261588,0.48835173573517165,null,-0.3023332022088756,-0.40071000782718064,null,-0.3799626381653377,-0.5779870451356708,null,-0.5137808601897035,-0.5779870451356708,null,-0.4915709090055107,-0.5779870451356708,null,0.32253750964275874,0.6405960444729041,null,0.32253750964275874,0.9718294538482658,null,0.32253750964275874,-0.6033425996349626,null,0.32253750964275874,0.5715566286132212,null,-0.4539436436008122,-0.5779870451356708,null,-0.3783155946456282,-0.5779870451356708,null,-0.4094273790586129,-0.5779870451356708,null,-0.4039595178275678,-0.5779870451356708,null,-0.40048620071171753,-0.5779870451356708,null,-0.496976859773181,-0.5779870451356708,null,0.2673676369899918,0.294710987767596,null,-0.5806893863468299,-0.5779870451356708,null,-0.3831199805505054,-0.5779870451356708,null,-0.46405064028898885,-0.5779870451356708,null,-0.5342033002335043,-0.5779870451356708,null,-0.5845494841199034,-0.5779870451356708,null,0.7231219191323474,0.8089662766177831,null,0.608824972762088,0.7384742897622936,null,-0.5307201779699202,-0.5779870451356708,null,0.6385399734840088,0.7708764611256547,null,0.6726374091197228,0.8015345181123458,null,0.6726374091197228,0.546984355051324,null,-0.5525873999129977,-0.5779870451356708,null,0.1673135412601096,0.17594630699533031,null,-0.4803738677531889,-0.5779870451356708,null,-0.6295511005407309,-0.5779870451356708,null,0.6720845898502117,0.7384742897622936,null,0.6617097200363083,0.7384742897622936,null,0.057487849880457395,0.3942566340480586,null,0.057487849880457395,-0.2765336048093287,null,0.7366942667303692,0.878030470176274,null,-0.09356563445572035,-0.19242493125895668,null,0.556287915943366,0.6545277940879418,null,-0.15392020663485317,-0.22607916828238694,null,-0.4436525333690485,-0.5779870451356708,null,0.7108890683568461,0.718637125154018,null,-0.5176857212220575,-0.5779870451356708,null,-0.38423495639944216,-0.5779870451356708,null,-0.5606334271290452,-0.5779870451356708,null],\"type\":\"scatter\"},{\"hoverinfo\":\"text\",\"marker\":{\"color\":[0.0,0.0,0.0,0.0,0.0,0.0,0.0,0.0,0.0,0.0,0.0,0.0,0.0,0.0,0.0,0.0,0.0,0.0,0.00033763044812768573,0.0,0.0,0.0,0.0,0.0,0.0,0.0,0.0,0.0,0.0,0.00015346838551258442,0.0,0.0,0.0,0.0,0.0,0.0,0.0,0.0,0.0,0.0,0.0,0.0,0.0,0.0,0.0,0.0,0.0,0.0,0.0,0.0,0.0,0.0,0.0,0.0,0.0,0.0,0.0,0.0,0.0,0.00003069367710251688,0.0,0.0,0.0,0.0,0.0,0.0,0.0,0.0,0.0,0.0,0.0,0.0,0.0,0.0,0.0,0.0,0.0,0.0,0.0,0.0,0.0,0.0,0.0,0.0,0.00012277470841006753,0.0,0.00003069367710251688,0.0,0.0,0.0,0.0,0.0,0.0,0.0,0.0,0.0,0.0,0.0,0.0,0.0,0.0,0.0,0.0,0.0,0.0,0.0,0.0,0.0,0.0,0.0,0.0,0.0,0.0,0.0,0.0,0.0,0.0,0.0,0.0,0.0,0.0,0.0,0.0,0.0,0.0,0.0,0.0,0.0,0.0,0.0,0.0,0.0,0.0,0.0,0.0,0.0,0.0,0.0,0.0,0.0,0.0,0.0,0.0,0.0,0.0,0.0,0.0,0.0,0.0,0.0,0.0,0.0,0.0,0.0,0.0,0.0,0.0,0.0,0.0,0.0,0.0,0.0,0.0,0.0,0.0,0.0,0.0,0.0,0.0,0.0,0.0,0.0,0.0,0.0,0.0,0.0,0.0,0.0,0.0,0.0,0.0,0.0],\"colorbar\":{\"thickness\":15,\"title\":{\"side\":\"right\",\"text\":\"Betweenness Centrality\"},\"xanchor\":\"left\"},\"colorscale\":[[0.0,\"rgb(255,255,217)\"],[0.125,\"rgb(237,248,177)\"],[0.25,\"rgb(199,233,180)\"],[0.375,\"rgb(127,205,187)\"],[0.5,\"rgb(65,182,196)\"],[0.625,\"rgb(29,145,192)\"],[0.75,\"rgb(34,94,168)\"],[0.875,\"rgb(37,52,148)\"],[1.0,\"rgb(8,29,88)\"]],\"line\":{\"width\":2},\"reversescale\":true,\"showscale\":true,\"size\":[0.2762430939226519,0.2762430939226519,0.2762430939226519,0.8287292817679558,0.5524861878453038,0.2762430939226519,0.2762430939226519,0.2762430939226519,20.994475138121548,0.2762430939226519,0.2762430939226519,0.2762430939226519,0.2762430939226519,0.2762430939226519,0.2762430939226519,0.2762430939226519,2.7624309392265194,0.5524861878453038,1.9337016574585635,0.5524861878453038,0.2762430939226519,0.2762430939226519,0.2762430939226519,0.2762430939226519,0.5524861878453038,0.2762430939226519,0.2762430939226519,0.2762430939226519,0.5524861878453038,1.1049723756906076,1.3812154696132597,0.2762430939226519,0.2762430939226519,0.5524861878453038,0.8287292817679558,0.2762430939226519,0.2762430939226519,0.2762430939226519,0.2762430939226519,0.2762430939226519,0.2762430939226519,0.2762430939226519,0.2762430939226519,0.2762430939226519,0.5524861878453038,0.2762430939226519,0.2762430939226519,0.2762430939226519,0.2762430939226519,0.2762430939226519,0.2762430939226519,0.2762430939226519,0.2762430939226519,0.2762430939226519,0.2762430939226519,0.5524861878453038,0.2762430939226519,0.2762430939226519,0.5524861878453038,0.5524861878453038,0.2762430939226519,0.2762430939226519,0.5524861878453038,0.2762430939226519,0.2762430939226519,0.2762430939226519,0.2762430939226519,0.8287292817679558,0.2762430939226519,0.2762430939226519,0.2762430939226519,0.2762430939226519,0.2762430939226519,0.5524861878453038,0.2762430939226519,1.1049723756906076,0.2762430939226519,0.2762430939226519,0.2762430939226519,0.2762430939226519,0.2762430939226519,0.2762430939226519,0.2762430939226519,0.5524861878453038,1.1049723756906076,0.5524861878453038,0.5524861878453038,0.2762430939226519,0.2762430939226519,0.2762430939226519,0.2762430939226519,0.2762430939226519,0.2762430939226519,0.2762430939226519,0.2762430939226519,0.2762430939226519,0.2762430939226519,0.2762430939226519,0.2762430939226519,0.2762430939226519,0.2762430939226519,0.2762430939226519,0.2762430939226519,0.2762430939226519,0.2762430939226519,0.2762430939226519,0.2762430939226519,0.2762430939226519,0.2762430939226519,0.2762430939226519,0.2762430939226519,0.2762430939226519,0.2762430939226519,0.2762430939226519,0.2762430939226519,0.2762430939226519,0.5524861878453038,0.2762430939226519,0.2762430939226519,0.2762430939226519,0.2762430939226519,0.2762430939226519,0.2762430939226519,0.2762430939226519,0.2762430939226519,0.2762430939226519,0.2762430939226519,0.2762430939226519,0.2762430939226519,1.1049723756906076,0.2762430939226519,0.2762430939226519,0.2762430939226519,0.2762430939226519,0.2762430939226519,0.2762430939226519,0.2762430939226519,0.2762430939226519,0.2762430939226519,0.2762430939226519,0.2762430939226519,0.2762430939226519,0.2762430939226519,0.2762430939226519,0.2762430939226519,0.2762430939226519,0.2762430939226519,0.2762430939226519,0.2762430939226519,0.2762430939226519,0.2762430939226519,0.2762430939226519,0.5524861878453038,0.2762430939226519,0.2762430939226519,0.2762430939226519,0.2762430939226519,0.2762430939226519,0.2762430939226519,0.2762430939226519,0.2762430939226519,0.2762430939226519,0.5524861878453038,0.2762430939226519,0.2762430939226519,0.2762430939226519,0.2762430939226519,0.2762430939226519,0.2762430939226519,0.2762430939226519,0.2762430939226519,0.2762430939226519,0.2762430939226519,0.2762430939226519,0.2762430939226519,0.2762430939226519,0.2762430939226519,0.2762430939226519,0.2762430939226519,0.2762430939226519,0.2762430939226519,0.2762430939226519]},\"mode\":\"markers\",\"text\":[\"User: roastbrief\\u003cbr\\u003eDegree Centrality: 0.0055\\u003cbr\\u003eBetweenness Centrality: 0.0000\",\"User: ZorayaMejia\\u003cbr\\u003eDegree Centrality: 0.0055\\u003cbr\\u003eBetweenness Centrality: 0.0000\",\"User: DCOD_Ai\\u003cbr\\u003eDegree Centrality: 0.0055\\u003cbr\\u003eBetweenness Centrality: 0.0000\",\"User: HaywaaWorldwide\\u003cbr\\u003eDegree Centrality: 0.0166\\u003cbr\\u003eBetweenness Centrality: 0.0000\",\"User: DataDropai\\u003cbr\\u003eDegree Centrality: 0.0110\\u003cbr\\u003eBetweenness Centrality: 0.0000\",\"User: jinwashu\\u003cbr\\u003eDegree Centrality: 0.0055\\u003cbr\\u003eBetweenness Centrality: 0.0000\",\"User: MikeWaters121\\u003cbr\\u003eDegree Centrality: 0.0055\\u003cbr\\u003eBetweenness Centrality: 0.0000\",\"User: GalaxColor\\u003cbr\\u003eDegree Centrality: 0.0055\\u003cbr\\u003eBetweenness Centrality: 0.0000\",\"User: AmandaDannielle\\u003cbr\\u003eDegree Centrality: 0.4199\\u003cbr\\u003eBetweenness Centrality: 0.0000\",\"User: GraceMolteni\\u003cbr\\u003eDegree Centrality: 0.0055\\u003cbr\\u003eBetweenness Centrality: 0.0000\",\"User: goodbisexual\\u003cbr\\u003eDegree Centrality: 0.0055\\u003cbr\\u003eBetweenness Centrality: 0.0000\",\"User: Kuro_no_otaku\\u003cbr\\u003eDegree Centrality: 0.0055\\u003cbr\\u003eBetweenness Centrality: 0.0000\",\"User: xleomahux\\u003cbr\\u003eDegree Centrality: 0.0055\\u003cbr\\u003eBetweenness Centrality: 0.0000\",\"User: werepuppi\\u003cbr\\u003eDegree Centrality: 0.0055\\u003cbr\\u003eBetweenness Centrality: 0.0000\",\"User: nickyy0313\\u003cbr\\u003eDegree Centrality: 0.0055\\u003cbr\\u003eBetweenness Centrality: 0.0000\",\"User: MrGanSun\\u003cbr\\u003eDegree Centrality: 0.0055\\u003cbr\\u003eBetweenness Centrality: 0.0000\",\"User: myexamcloud\\u003cbr\\u003eDegree Centrality: 0.0552\\u003cbr\\u003eBetweenness Centrality: 0.0000\",\"User: gl4ssesbo1\\u003cbr\\u003eDegree Centrality: 0.0110\\u003cbr\\u003eBetweenness Centrality: 0.0000\",\"User: Ronald_vanLoon\\u003cbr\\u003eDegree Centrality: 0.0387\\u003cbr\\u003eBetweenness Centrality: 0.0003\",\"User: Python_Dv\\u003cbr\\u003eDegree Centrality: 0.0110\\u003cbr\\u003eBetweenness Centrality: 0.0000\",\"User: _boago_\\u003cbr\\u003eDegree Centrality: 0.0055\\u003cbr\\u003eBetweenness Centrality: 0.0000\",\"User: dolcebellabaker\\u003cbr\\u003eDegree Centrality: 0.0055\\u003cbr\\u003eBetweenness Centrality: 0.0000\",\"User: saturnspetgoat\\u003cbr\\u003eDegree Centrality: 0.0055\\u003cbr\\u003eBetweenness Centrality: 0.0000\",\"User: acidic205\\u003cbr\\u003eDegree Centrality: 0.0055\\u003cbr\\u003eBetweenness Centrality: 0.0000\",\"User: courtandsuns\\u003cbr\\u003eDegree Centrality: 0.0110\\u003cbr\\u003eBetweenness Centrality: 0.0000\",\"User: eldisig\\u003cbr\\u003eDegree Centrality: 0.0055\\u003cbr\\u003eBetweenness Centrality: 0.0000\",\"User: Celokuhle_69\\u003cbr\\u003eDegree Centrality: 0.0055\\u003cbr\\u003eBetweenness Centrality: 0.0000\",\"User: wh0r3_era\\u003cbr\\u003eDegree Centrality: 0.0055\\u003cbr\\u003eBetweenness Centrality: 0.0000\",\"User: fullstackrole\\u003cbr\\u003eDegree Centrality: 0.0110\\u003cbr\\u003eBetweenness Centrality: 0.0000\",\"User: Transform_Sec\\u003cbr\\u003eDegree Centrality: 0.0221\\u003cbr\\u003eBetweenness Centrality: 0.0002\",\"User: helpnetsecurity\\u003cbr\\u003eDegree Centrality: 0.0276\\u003cbr\\u003eBetweenness Centrality: 0.0000\",\"User: ecomputerbooks\\u003cbr\\u003eDegree Centrality: 0.0055\\u003cbr\\u003eBetweenness Centrality: 0.0000\",\"User: Ym78200\\u003cbr\\u003eDegree Centrality: 0.0055\\u003cbr\\u003eBetweenness Centrality: 0.0000\",\"User: jimenapeaok\\u003cbr\\u003eDegree Centrality: 0.0110\\u003cbr\\u003eBetweenness Centrality: 0.0000\",\"User: Khulood_Almani\\u003cbr\\u003eDegree Centrality: 0.0166\\u003cbr\\u003eBetweenness Centrality: 0.0000\",\"User: stormbeaut\\u003cbr\\u003eDegree Centrality: 0.0055\\u003cbr\\u003eBetweenness Centrality: 0.0000\",\"User: doublefoursys\\u003cbr\\u003eDegree Centrality: 0.0055\\u003cbr\\u003eBetweenness Centrality: 0.0000\",\"User: hiddendruid\\u003cbr\\u003eDegree Centrality: 0.0055\\u003cbr\\u003eBetweenness Centrality: 0.0000\",\"User: TheChiButterfly\\u003cbr\\u003eDegree Centrality: 0.0055\\u003cbr\\u003eBetweenness Centrality: 0.0000\",\"User: MarooninCar62\\u003cbr\\u003eDegree Centrality: 0.0055\\u003cbr\\u003eBetweenness Centrality: 0.0000\",\"User: meatsock2000\\u003cbr\\u003eDegree Centrality: 0.0055\\u003cbr\\u003eBetweenness Centrality: 0.0000\",\"User: acerosedrop\\u003cbr\\u003eDegree Centrality: 0.0055\\u003cbr\\u003eBetweenness Centrality: 0.0000\",\"User: Casablanca369\\u003cbr\\u003eDegree Centrality: 0.0055\\u003cbr\\u003eBetweenness Centrality: 0.0000\",\"User: THR\\u003cbr\\u003eDegree Centrality: 0.0055\\u003cbr\\u003eBetweenness Centrality: 0.0000\",\"User: pythonnewsorg\\u003cbr\\u003eDegree Centrality: 0.0110\\u003cbr\\u003eBetweenness Centrality: 0.0000\",\"User: IRISSoftware\\u003cbr\\u003eDegree Centrality: 0.0055\\u003cbr\\u003eBetweenness Centrality: 0.0000\",\"User: generativeai_re\\u003cbr\\u003eDegree Centrality: 0.0055\\u003cbr\\u003eBetweenness Centrality: 0.0000\",\"User: DaneEnerio\\u003cbr\\u003eDegree Centrality: 0.0055\\u003cbr\\u003eBetweenness Centrality: 0.0000\",\"User: olsbear\\u003cbr\\u003eDegree Centrality: 0.0055\\u003cbr\\u003eBetweenness Centrality: 0.0000\",\"User: __n32_\\u003cbr\\u003eDegree Centrality: 0.0055\\u003cbr\\u003eBetweenness Centrality: 0.0000\",\"User: bugznbolts\\u003cbr\\u003eDegree Centrality: 0.0055\\u003cbr\\u003eBetweenness Centrality: 0.0000\",\"User: RoyaIGarden\\u003cbr\\u003eDegree Centrality: 0.0055\\u003cbr\\u003eBetweenness Centrality: 0.0000\",\"User: WillyRayNick\\u003cbr\\u003eDegree Centrality: 0.0055\\u003cbr\\u003eBetweenness Centrality: 0.0000\",\"User: ToomooIArt\\u003cbr\\u003eDegree Centrality: 0.0055\\u003cbr\\u003eBetweenness Centrality: 0.0000\",\"User: jblefevre60\\u003cbr\\u003eDegree Centrality: 0.0055\\u003cbr\\u003eBetweenness Centrality: 0.0000\",\"User: IotMore\\u003cbr\\u003eDegree Centrality: 0.0110\\u003cbr\\u003eBetweenness Centrality: 0.0000\",\"User: Fujitsu_Global\\u003cbr\\u003eDegree Centrality: 0.0055\\u003cbr\\u003eBetweenness Centrality: 0.0000\",\"User: sonybank_jp\\u003cbr\\u003eDegree Centrality: 0.0055\\u003cbr\\u003eBetweenness Centrality: 0.0000\",\"User: itbusinesstoday\\u003cbr\\u003eDegree Centrality: 0.0110\\u003cbr\\u003eBetweenness Centrality: 0.0000\",\"User: grok\\u003cbr\\u003eDegree Centrality: 0.0110\\u003cbr\\u003eBetweenness Centrality: 0.0000\",\"User: a\\u003cbr\\u003eDegree Centrality: 0.0055\\u003cbr\\u003eBetweenness Centrality: 0.0000\",\"User: maln0urish3d\\u003cbr\\u003eDegree Centrality: 0.0055\\u003cbr\\u003eBetweenness Centrality: 0.0000\",\"User: yayansurya1983\\u003cbr\\u003eDegree Centrality: 0.0110\\u003cbr\\u003eBetweenness Centrality: 0.0000\",\"User: AuliyanaMuzi\\u003cbr\\u003eDegree Centrality: 0.0055\\u003cbr\\u003eBetweenness Centrality: 0.0000\",\"User: ShopeeID\\u003cbr\\u003eDegree Centrality: 0.0055\\u003cbr\\u003eBetweenness Centrality: 0.0000\",\"User: jalynnroxs\\u003cbr\\u003eDegree Centrality: 0.0055\\u003cbr\\u003eBetweenness Centrality: 0.0000\",\"User: ssodainvads\\u003cbr\\u003eDegree Centrality: 0.0055\\u003cbr\\u003eBetweenness Centrality: 0.0000\",\"User: Kurz_Gesagt\\u003cbr\\u003eDegree Centrality: 0.0166\\u003cbr\\u003eBetweenness Centrality: 0.0000\",\"User: h0eh0\\u003cbr\\u003eDegree Centrality: 0.0055\\u003cbr\\u003eBetweenness Centrality: 0.0000\",\"User: tngkuuu\\u003cbr\\u003eDegree Centrality: 0.0055\\u003cbr\\u003eBetweenness Centrality: 0.0000\",\"User: heehoonhours\\u003cbr\\u003eDegree Centrality: 0.0055\\u003cbr\\u003eBetweenness Centrality: 0.0000\",\"User: TaeBabyyBear\\u003cbr\\u003eDegree Centrality: 0.0055\\u003cbr\\u003eBetweenness Centrality: 0.0000\",\"User: epractizelabs\\u003cbr\\u003eDegree Centrality: 0.0055\\u003cbr\\u003eBetweenness Centrality: 0.0000\",\"User: R_Philokypros\\u003cbr\\u003eDegree Centrality: 0.0110\\u003cbr\\u003eBetweenness Centrality: 0.0000\",\"User: Cacilie_Blaas\\u003cbr\\u003eDegree Centrality: 0.0055\\u003cbr\\u003eBetweenness Centrality: 0.0000\",\"User: bratsupernova\\u003cbr\\u003eDegree Centrality: 0.0221\\u003cbr\\u003eBetweenness Centrality: 0.0000\",\"User: Lostinjingshi\\u003cbr\\u003eDegree Centrality: 0.0055\\u003cbr\\u003eBetweenness Centrality: 0.0000\",\"User: HiKabirrr\\u003cbr\\u003eDegree Centrality: 0.0055\\u003cbr\\u003eBetweenness Centrality: 0.0000\",\"User: hotheadpaisana\\u003cbr\\u003eDegree Centrality: 0.0055\\u003cbr\\u003eBetweenness Centrality: 0.0000\",\"User: SkeletalNoises\\u003cbr\\u003eDegree Centrality: 0.0055\\u003cbr\\u003eBetweenness Centrality: 0.0000\",\"User: Nitz2206\\u003cbr\\u003eDegree Centrality: 0.0055\\u003cbr\\u003eBetweenness Centrality: 0.0000\",\"User: laurensayshilol\\u003cbr\\u003eDegree Centrality: 0.0055\\u003cbr\\u003eBetweenness Centrality: 0.0000\",\"User: henry_zach_\\u003cbr\\u003eDegree Centrality: 0.0055\\u003cbr\\u003eBetweenness Centrality: 0.0000\",\"User: corixpartners\\u003cbr\\u003eDegree Centrality: 0.0110\\u003cbr\\u003eBetweenness Centrality: 0.0000\",\"User: Corix_JC\\u003cbr\\u003eDegree Centrality: 0.0221\\u003cbr\\u003eBetweenness Centrality: 0.0001\",\"User: javanewsorg\\u003cbr\\u003eDegree Centrality: 0.0110\\u003cbr\\u003eBetweenness Centrality: 0.0000\",\"User: xboxmayn\\u003cbr\\u003eDegree Centrality: 0.0110\\u003cbr\\u003eBetweenness Centrality: 0.0000\",\"User: quick_cat_tl\\u003cbr\\u003eDegree Centrality: 0.0055\\u003cbr\\u003eBetweenness Centrality: 0.0000\",\"User: komosgoogi\\u003cbr\\u003eDegree Centrality: 0.0055\\u003cbr\\u003eBetweenness Centrality: 0.0000\",\"User: listl355\\u003cbr\\u003eDegree Centrality: 0.0055\\u003cbr\\u003eBetweenness Centrality: 0.0000\",\"User: Brown_Wantholf\\u003cbr\\u003eDegree Centrality: 0.0055\\u003cbr\\u003eBetweenness Centrality: 0.0000\",\"User: CriticalRoleAce\\u003cbr\\u003eDegree Centrality: 0.0055\\u003cbr\\u003eBetweenness Centrality: 0.0000\",\"User: Tortuarmy\\u003cbr\\u003eDegree Centrality: 0.0055\\u003cbr\\u003eBetweenness Centrality: 0.0000\",\"User: Nics981\\u003cbr\\u003eDegree Centrality: 0.0055\\u003cbr\\u003eBetweenness Centrality: 0.0000\",\"User: HappiestMinds\\u003cbr\\u003eDegree Centrality: 0.0055\\u003cbr\\u003eBetweenness Centrality: 0.0000\",\"User: Hitachi\\u003cbr\\u003eDegree Centrality: 0.0055\\u003cbr\\u003eBetweenness Centrality: 0.0000\",\"User: meilleureenemie\\u003cbr\\u003eDegree Centrality: 0.0055\\u003cbr\\u003eBetweenness Centrality: 0.0000\",\"User: drinkfallhealy\\u003cbr\\u003eDegree Centrality: 0.0055\\u003cbr\\u003eBetweenness Centrality: 0.0000\",\"User: formalcasualty\\u003cbr\\u003eDegree Centrality: 0.0055\\u003cbr\\u003eBetweenness Centrality: 0.0000\",\"User: DragaIsAFool\\u003cbr\\u003eDegree Centrality: 0.0055\\u003cbr\\u003eBetweenness Centrality: 0.0000\",\"User: raezeerr\\u003cbr\\u003eDegree Centrality: 0.0055\\u003cbr\\u003eBetweenness Centrality: 0.0000\",\"User: Tears0fGarnet\\u003cbr\\u003eDegree Centrality: 0.0055\\u003cbr\\u003eBetweenness Centrality: 0.0000\",\"User: Kiibabey\\u003cbr\\u003eDegree Centrality: 0.0055\\u003cbr\\u003eBetweenness Centrality: 0.0000\",\"User: stunninmarie\\u003cbr\\u003eDegree Centrality: 0.0055\\u003cbr\\u003eBetweenness Centrality: 0.0000\",\"User: NuckyChicky\\u003cbr\\u003eDegree Centrality: 0.0055\\u003cbr\\u003eBetweenness Centrality: 0.0000\",\"User: dInnovaTrain\\u003cbr\\u003eDegree Centrality: 0.0055\\u003cbr\\u003eBetweenness Centrality: 0.0000\",\"User: ipfconline1\\u003cbr\\u003eDegree Centrality: 0.0055\\u003cbr\\u003eBetweenness Centrality: 0.0000\",\"User: vrajshah959\\u003cbr\\u003eDegree Centrality: 0.0055\\u003cbr\\u003eBetweenness Centrality: 0.0000\",\"User: luisnomad\\u003cbr\\u003eDegree Centrality: 0.0055\\u003cbr\\u003eBetweenness Centrality: 0.0000\",\"User: onetowan\\u003cbr\\u003eDegree Centrality: 0.0055\\u003cbr\\u003eBetweenness Centrality: 0.0000\",\"User: adoringsteve\\u003cbr\\u003eDegree Centrality: 0.0055\\u003cbr\\u003eBetweenness Centrality: 0.0000\",\"User: mariummun\\u003cbr\\u003eDegree Centrality: 0.0055\\u003cbr\\u003eBetweenness Centrality: 0.0000\",\"User: pronosome\\u003cbr\\u003eDegree Centrality: 0.0055\\u003cbr\\u003eBetweenness Centrality: 0.0000\",\"User: usagiqueeffart\\u003cbr\\u003eDegree Centrality: 0.0055\\u003cbr\\u003eBetweenness Centrality: 0.0000\",\"User: minwonisz\\u003cbr\\u003eDegree Centrality: 0.0055\\u003cbr\\u003eBetweenness Centrality: 0.0000\",\"User: six3_D\\u003cbr\\u003eDegree Centrality: 0.0055\\u003cbr\\u003eBetweenness Centrality: 0.0000\",\"User: umaatnitee\\u003cbr\\u003eDegree Centrality: 0.0110\\u003cbr\\u003eBetweenness Centrality: 0.0000\",\"User: bulbi59\\u003cbr\\u003eDegree Centrality: 0.0055\\u003cbr\\u003eBetweenness Centrality: 0.0000\",\"User: Spirit_Bringer\\u003cbr\\u003eDegree Centrality: 0.0055\\u003cbr\\u003eBetweenness Centrality: 0.0000\",\"User: nxlzxxn\\u003cbr\\u003eDegree Centrality: 0.0055\\u003cbr\\u003eBetweenness Centrality: 0.0000\",\"User: v3nusbabi\\u003cbr\\u003eDegree Centrality: 0.0055\\u003cbr\\u003eBetweenness Centrality: 0.0000\",\"User: bledyellow\\u003cbr\\u003eDegree Centrality: 0.0055\\u003cbr\\u003eBetweenness Centrality: 0.0000\",\"User: RuvikKin\\u003cbr\\u003eDegree Centrality: 0.0055\\u003cbr\\u003eBetweenness Centrality: 0.0000\",\"User: ikariharahara\\u003cbr\\u003eDegree Centrality: 0.0055\\u003cbr\\u003eBetweenness Centrality: 0.0000\",\"User: higan_wafu\\u003cbr\\u003eDegree Centrality: 0.0055\\u003cbr\\u003eBetweenness Centrality: 0.0000\",\"User: qsogolden\\u003cbr\\u003eDegree Centrality: 0.0055\\u003cbr\\u003eBetweenness Centrality: 0.0000\",\"User: TheHermitsTarot\\u003cbr\\u003eDegree Centrality: 0.0055\\u003cbr\\u003eBetweenness Centrality: 0.0000\",\"User: brockett_ryan\\u003cbr\\u003eDegree Centrality: 0.0055\\u003cbr\\u003eBetweenness Centrality: 0.0000\",\"User: sumirza\\u003cbr\\u003eDegree Centrality: 0.0055\\u003cbr\\u003eBetweenness Centrality: 0.0000\",\"User: R_Demidchuk\\u003cbr\\u003eDegree Centrality: 0.0221\\u003cbr\\u003eBetweenness Centrality: 0.0000\",\"User: DirkSchaar\\u003cbr\\u003eDegree Centrality: 0.0055\\u003cbr\\u003eBetweenness Centrality: 0.0000\",\"User: chidambara09\\u003cbr\\u003eDegree Centrality: 0.0055\\u003cbr\\u003eBetweenness Centrality: 0.0000\",\"User: AndrewYNg\\u003cbr\\u003eDegree Centrality: 0.0055\\u003cbr\\u003eBetweenness Centrality: 0.0000\",\"User: callmejud3\\u003cbr\\u003eDegree Centrality: 0.0055\\u003cbr\\u003eBetweenness Centrality: 0.0000\",\"User: ns1012rs\\u003cbr\\u003eDegree Centrality: 0.0055\\u003cbr\\u003eBetweenness Centrality: 0.0000\",\"User: wittlstminotaur\\u003cbr\\u003eDegree Centrality: 0.0055\\u003cbr\\u003eBetweenness Centrality: 0.0000\",\"User: _BBloom\\u003cbr\\u003eDegree Centrality: 0.0055\\u003cbr\\u003eBetweenness Centrality: 0.0000\",\"User: gennnabee\\u003cbr\\u003eDegree Centrality: 0.0055\\u003cbr\\u003eBetweenness Centrality: 0.0000\",\"User: Charlie__Willis\\u003cbr\\u003eDegree Centrality: 0.0055\\u003cbr\\u003eBetweenness Centrality: 0.0000\",\"User: gumchest\\u003cbr\\u003eDegree Centrality: 0.0055\\u003cbr\\u003eBetweenness Centrality: 0.0000\",\"User: adamkeepluh\\u003cbr\\u003eDegree Centrality: 0.0055\\u003cbr\\u003eBetweenness Centrality: 0.0000\",\"User: LAW2025_NeurIPS\\u003cbr\\u003eDegree Centrality: 0.0055\\u003cbr\\u003eBetweenness Centrality: 0.0000\",\"User: nickichimchim\\u003cbr\\u003eDegree Centrality: 0.0055\\u003cbr\\u003eBetweenness Centrality: 0.0000\",\"User: phant_shroom\\u003cbr\\u003eDegree Centrality: 0.0055\\u003cbr\\u003eBetweenness Centrality: 0.0000\",\"User: cuntent\\u003cbr\\u003eDegree Centrality: 0.0055\\u003cbr\\u003eBetweenness Centrality: 0.0000\",\"User: 127waystocry\\u003cbr\\u003eDegree Centrality: 0.0055\\u003cbr\\u003eBetweenness Centrality: 0.0000\",\"User: pythonfreshers\\u003cbr\\u003eDegree Centrality: 0.0055\\u003cbr\\u003eBetweenness Centrality: 0.0000\",\"User: OpenAI\\u003cbr\\u003eDegree Centrality: 0.0055\\u003cbr\\u003eBetweenness Centrality: 0.0000\",\"User: RichjWsi\\u003cbr\\u003eDegree Centrality: 0.0055\\u003cbr\\u003eBetweenness Centrality: 0.0000\",\"User: lolurnotdylanx\\u003cbr\\u003eDegree Centrality: 0.0055\\u003cbr\\u003eBetweenness Centrality: 0.0000\",\"User: engisoud\\u003cbr\\u003eDegree Centrality: 0.0055\\u003cbr\\u003eBetweenness Centrality: 0.0000\",\"User: AIBrewlineMusic\\u003cbr\\u003eDegree Centrality: 0.0055\\u003cbr\\u003eBetweenness Centrality: 0.0000\",\"User: dailyartdev\\u003cbr\\u003eDegree Centrality: 0.0110\\u003cbr\\u003eBetweenness Centrality: 0.0000\",\"User: InAIToday\\u003cbr\\u003eDegree Centrality: 0.0055\\u003cbr\\u003eBetweenness Centrality: 0.0000\",\"User: ExtremeNetworks\\u003cbr\\u003eDegree Centrality: 0.0055\\u003cbr\\u003eBetweenness Centrality: 0.0000\",\"User: hamdeep_\\u003cbr\\u003eDegree Centrality: 0.0055\\u003cbr\\u003eBetweenness Centrality: 0.0000\",\"User: paulthies2\\u003cbr\\u003eDegree Centrality: 0.0055\\u003cbr\\u003eBetweenness Centrality: 0.0000\",\"User: riawastolerated\\u003cbr\\u003eDegree Centrality: 0.0055\\u003cbr\\u003eBetweenness Centrality: 0.0000\",\"User: rohanzupp\\u003cbr\\u003eDegree Centrality: 0.0055\\u003cbr\\u003eBetweenness Centrality: 0.0000\",\"User: _requinem\\u003cbr\\u003eDegree Centrality: 0.0055\\u003cbr\\u003eBetweenness Centrality: 0.0000\",\"User: javafreshershub\\u003cbr\\u003eDegree Centrality: 0.0055\\u003cbr\\u003eBetweenness Centrality: 0.0000\",\"User: examnewsorg\\u003cbr\\u003eDegree Centrality: 0.0055\\u003cbr\\u003eBetweenness Centrality: 0.0000\",\"User: ITDigestmag\\u003cbr\\u003eDegree Centrality: 0.0110\\u003cbr\\u003eBetweenness Centrality: 0.0000\",\"User: exaforceAI\\u003cbr\\u003eDegree Centrality: 0.0055\\u003cbr\\u003eBetweenness Centrality: 0.0000\",\"User: AWSstartups\\u003cbr\\u003eDegree Centrality: 0.0055\\u003cbr\\u003eBetweenness Centrality: 0.0000\",\"User: pastsmartlink\\u003cbr\\u003eDegree Centrality: 0.0055\\u003cbr\\u003eBetweenness Centrality: 0.0000\",\"User: CCCI_Cyprus\\u003cbr\\u003eDegree Centrality: 0.0055\\u003cbr\\u003eBetweenness Centrality: 0.0000\",\"User: dharmisthabaid\\u003cbr\\u003eDegree Centrality: 0.0055\\u003cbr\\u003eBetweenness Centrality: 0.0000\",\"User: bravo_abad\\u003cbr\\u003eDegree Centrality: 0.0055\\u003cbr\\u003eBetweenness Centrality: 0.0000\",\"User: aure79lien\\u003cbr\\u003eDegree Centrality: 0.0055\\u003cbr\\u003eBetweenness Centrality: 0.0000\",\"User: VisualpathPro\\u003cbr\\u003eDegree Centrality: 0.0055\\u003cbr\\u003eBetweenness Centrality: 0.0000\",\"User: Amarantos_Ley\\u003cbr\\u003eDegree Centrality: 0.0055\\u003cbr\\u003eBetweenness Centrality: 0.0000\",\"User: NintendoCoLtd\\u003cbr\\u003eDegree Centrality: 0.0055\\u003cbr\\u003eBetweenness Centrality: 0.0000\",\"User: Lumeapho\\u003cbr\\u003eDegree Centrality: 0.0055\\u003cbr\\u003eBetweenness Centrality: 0.0000\",\"User: IainLJBrown\\u003cbr\\u003eDegree Centrality: 0.0055\\u003cbr\\u003eBetweenness Centrality: 0.0000\",\"User: Paula_Piccard\\u003cbr\\u003eDegree Centrality: 0.0055\\u003cbr\\u003eBetweenness Centrality: 0.0000\",\"User: karpathy\\u003cbr\\u003eDegree Centrality: 0.0055\\u003cbr\\u003eBetweenness Centrality: 0.0000\",\"User: FES_FoW\\u003cbr\\u003eDegree Centrality: 0.0055\\u003cbr\\u003eBetweenness Centrality: 0.0000\",\"User: BernardMarr\\u003cbr\\u003eDegree Centrality: 0.0055\\u003cbr\\u003eBetweenness Centrality: 0.0000\",\"User: Jailee__\\u003cbr\\u003eDegree Centrality: 0.0055\\u003cbr\\u003eBetweenness Centrality: 0.0000\",\"User: onskyway\\u003cbr\\u003eDegree Centrality: 0.0055\\u003cbr\\u003eBetweenness Centrality: 0.0000\",\"User: wazazey\\u003cbr\\u003eDegree Centrality: 0.0055\\u003cbr\\u003eBetweenness Centrality: 0.0000\"],\"x\":[0.6175000406624689,0.5856712847020337,-0.23062774806875008,-0.24214087590032624,0.3405190555125156,0.79686392523766,-0.11463969286936629,0.1252454330785401,0.19581880943672625,0.1433312899446192,0.2036991193909268,0.11137818304960191,0.2560062366806925,0.09570999638190449,0.15831327207843585,-0.46931991907549236,-0.5328459563937727,0.12706618555078053,0.30400651444598464,-0.04428923807701916,0.10999028049725346,0.13059559194599377,0.15152705905888225,-0.6340532122387785,-0.6922976470791314,0.18314558830685684,0.2065964088176379,0.11530465723302241,-0.10667455304696874,0.5949503063276342,-0.8098899938660316,0.7754069822903062,0.7435342805091208,-0.18769870218112295,-0.680169084467593,0.14477731774641214,0.15676699322975912,0.10631598726855182,0.13851798091132037,0.24336414936245485,0.1457751020467638,0.13998856300057178,-0.44746017881683464,-0.5311371836866615,-0.10699519964451534,-0.5844713711793587,-0.7906394410275995,0.09610453844476503,0.11687296867174961,0.11948223697788969,0.16056298772624011,0.23966157546784422,-0.4935656597638579,-0.3436527948847924,-0.40798966998600783,-0.3262774033945001,-0.0176010263527236,-0.6359986663824713,0.3624271327063053,0.045414773312518926,0.6815183766551931,0.17979992617484244,-0.27041570175230795,-0.7815218987612098,0.24031390484675746,0.1822707212937121,0.6386334507112956,0.7983801525006593,0.14230362963328014,0.6285761955534176,0.10530243874118239,0.2187330684384475,-0.45024022620301724,-0.18768435210640222,-0.8104421174605202,-0.8089485192877071,0.22470072775280303,0.1305144842484131,-0.5004592144179163,0.17266162125858303,0.15493587935499853,0.12794165068012425,0.10998787363175591,-0.4582234968034841,-0.10827195715248573,-0.4587564945115015,-0.49785826452744014,0.15190975241233862,0.11576706786139201,0.1633688881686933,0.20037492589842762,0.1290210629305338,0.1279301025840791,0.23707341906156765,-0.5908928332795954,-0.7906664658215764,-0.7964608108969868,0.17583260264698375,0.16188299810532172,-0.5555787880981843,-0.788751686461742,0.13004676093378842,0.22029498261062883,0.14455392588512006,0.16947732667609774,0.6283019506913877,0.7865838339945375,-0.20920513892703485,-0.2332355504775055,-0.5117330443487972,-0.5780796918997244,0.10234863874297777,-0.5582048962962902,-0.7036510081018499,0.19957810939552545,-0.5097003799881863,-0.5527711665338034,-0.432988571530393,0.2259715788610307,0.1208658700302585,0.12215967625624415,0.10945607998552667,0.23596098493904605,-0.6755468603921287,-0.6495271894193025,-0.4246141204660603,0.1317911543516551,0.10971018372795388,0.21238343671447868,-0.20882465042410145,0.3323164623495637,-0.15235689084065077,-0.6749251857110816,0.17540219228170034,0.14125446386331708,0.1350006892856969,0.12715867157459954,0.10353387380978013,0.19584694187146487,-0.6892018227784636,0.12836233825136048,0.6687940557388371,0.12297934788109571,0.14114840154417005,0.11541941479004113,0.25125169357608584,0.5217938407498819,0.5960374987131589,-0.40031868140131166,0.14796869959664843,-0.46402296568796003,-0.5916177290491823,0.5998092254220799,0.4937978731344405,0.7077788824341272,0.13571498599071186,0.7297898996157183,0.10888808014721656,0.020413985345346677,0.19459700908506591,-0.45798040473863644,-0.47024543051992135,0.5607113013514007,0.8052429903015813,0.33036782898258976,-0.42527962375635725,-0.5137020981551247,-0.4702117390967852,-0.7323755691241225,0.5999642224840885,0.7248058644288464,-0.5754345971849768,-0.7556233524101679,0.14216587794520846,0.8395378369422897,-0.3182890458843081,0.7754602992012476,0.5263333478786965,0.49351869963463996,0.16157268747160355,0.11456239508438161,0.11854134935749405],\"y\":[-0.0749052051141785,-0.07162133527926624,0.9726551071962545,0.9505634950867857,0.4341632961150089,-0.09758380619772797,0.9663503802459795,-0.5995972800168028,-0.5779870451356708,-0.38968685828677535,-0.6130947934626346,-0.45800727630404214,-0.565728814059353,-0.39316435398651767,-0.5809332937953029,0.6975252125971125,0.7384742897622936,0.7794920952788464,0.6397047375358897,0.9305634003265382,-0.5464220033666659,-0.39108858748774444,-0.4537309485137021,-0.14732424752841553,-0.15619276401848667,-0.4959234458913675,-0.520929235048008,-0.5787222363946254,0.061094286438589135,0.06826778449612825,0.05870828780666133,0.02397792026057352,0.023640535685093403,0.6368562203533322,0.6405960444729041,-0.41305889280836355,-0.5018311657570313,-0.38924313682102163,-0.5922375813722659,-0.54156001667804,-0.6076259838985477,-0.47974632624752434,-0.40385594610345094,-0.4867359104773417,0.06660247054854182,0.3828801401415886,0.4673227063019006,-0.419073559874361,-0.40202893495083336,-0.419086483347089,-0.6247056794661728,-0.5638663224903907,0.7016337490354333,0.7854870715771007,0.9185234847920299,0.2888700504135961,0.9718571790240962,-0.39428423984643474,0.6987591486013931,0.9961287886954597,0.40427349881622116,-0.5663890454268253,0.4978579329623463,0.15470221136724105,0.8422681993699284,-0.46882703156359684,0.1519290723677125,0.17594630699533031,-0.5065047185055747,0.15705831220145036,-0.4230811251614116,-0.5008253001040253,0.6580563589308709,0.6410618746770256,0.2710816754358755,0.294710987767596,-0.529769647342517,-0.5333673000783894,-0.11193422604830829,-0.4812633690948396,-0.47975751590316296,0.9285426459020714,0.9095415628188582,0.06380432116616958,0.06357784712844212,0.05891067417819973,0.7253857491817092,-0.4055284081364344,-0.4972454007967121,-0.4454880460788997,-0.5374671593952338,-0.47646186641107363,-0.5115726085597163,-0.5847033973275736,-0.059667661462076124,-0.09614364099665487,0.3146283242031642,-0.6183101746475159,-0.55407683666319,0.011030221693043588,-0.013400408468958265,-0.42620894637661366,-0.5861205584567205,-0.5763077003068618,-0.4960011841755005,0.283258371321397,0.332823414584173,0.6907734218290034,0.8738073067163351,0.69116658437042,0.24310183187149711,-0.49083984188270985,-0.2555362352069483,-0.33178155182735053,-0.48141243756741664,-0.3682099402879459,-0.40071000782718064,0.6819292576212518,-0.6062137318911424,-0.48386888868729555,-0.44864563498102494,-0.4125725290481236,-0.5187854997729962,0.4884056435261588,0.48835173573517165,-0.3023332022088756,-0.3799626381653377,-0.5137808601897035,-0.4915709090055107,0.32253750964275874,0.9718294538482658,-0.6033425996349626,0.5715566286132212,-0.4539436436008122,-0.3783155946456282,-0.4094273790586129,-0.4039595178275678,-0.40048620071171753,-0.496976859773181,0.2673676369899918,-0.5806893863468299,0.07370503914271738,-0.3831199805505054,-0.46405064028898885,-0.5342033002335043,-0.5845494841199034,0.7231219191323474,0.8089662766177831,0.608824972762088,-0.5307201779699202,0.6385399734840088,0.7708764611256547,0.6726374091197228,0.8015345181123458,0.546984355051324,-0.5525873999129977,0.1673135412601096,-0.4803738677531889,0.9999999999999999,-0.6295511005407309,0.6720845898502117,0.6617097200363083,0.057487849880457395,0.3942566340480586,-0.2765336048093287,0.7366942667303692,0.878030470176274,-0.09356563445572035,-0.19242493125895668,0.556287915943366,0.6545277940879418,-0.15392020663485317,-0.22607916828238694,-0.4436525333690485,0.24382411153356548,0.9414653887603879,0.4888843556060612,0.7108890683568461,0.718637125154018,-0.5176857212220575,-0.38423495639944216,-0.5606334271290452],\"type\":\"scatter\"}],                        {\"annotations\":[{\"showarrow\":false,\"text\":\"Python code for plotting Twitter mention network with plotly\",\"x\":0.005,\"xref\":\"paper\",\"y\":-0.002,\"yref\":\"paper\"}],\"hovermode\":\"closest\",\"margin\":{\"b\":20,\"l\":5,\"r\":5,\"t\":40},\"showlegend\":false,\"title\":{\"font\":{\"size\":16},\"text\":\"Twitter Mention Network\"},\"xaxis\":{\"showgrid\":false,\"showticklabels\":false,\"zeroline\":false},\"yaxis\":{\"showgrid\":false,\"showticklabels\":false,\"zeroline\":false},\"template\":{\"data\":{\"histogram2dcontour\":[{\"type\":\"histogram2dcontour\",\"colorbar\":{\"outlinewidth\":0,\"ticks\":\"\"},\"colorscale\":[[0.0,\"#0d0887\"],[0.1111111111111111,\"#46039f\"],[0.2222222222222222,\"#7201a8\"],[0.3333333333333333,\"#9c179e\"],[0.4444444444444444,\"#bd3786\"],[0.5555555555555556,\"#d8576b\"],[0.6666666666666666,\"#ed7953\"],[0.7777777777777778,\"#fb9f3a\"],[0.8888888888888888,\"#fdca26\"],[1.0,\"#f0f921\"]]}],\"choropleth\":[{\"type\":\"choropleth\",\"colorbar\":{\"outlinewidth\":0,\"ticks\":\"\"}}],\"histogram2d\":[{\"type\":\"histogram2d\",\"colorbar\":{\"outlinewidth\":0,\"ticks\":\"\"},\"colorscale\":[[0.0,\"#0d0887\"],[0.1111111111111111,\"#46039f\"],[0.2222222222222222,\"#7201a8\"],[0.3333333333333333,\"#9c179e\"],[0.4444444444444444,\"#bd3786\"],[0.5555555555555556,\"#d8576b\"],[0.6666666666666666,\"#ed7953\"],[0.7777777777777778,\"#fb9f3a\"],[0.8888888888888888,\"#fdca26\"],[1.0,\"#f0f921\"]]}],\"heatmap\":[{\"type\":\"heatmap\",\"colorbar\":{\"outlinewidth\":0,\"ticks\":\"\"},\"colorscale\":[[0.0,\"#0d0887\"],[0.1111111111111111,\"#46039f\"],[0.2222222222222222,\"#7201a8\"],[0.3333333333333333,\"#9c179e\"],[0.4444444444444444,\"#bd3786\"],[0.5555555555555556,\"#d8576b\"],[0.6666666666666666,\"#ed7953\"],[0.7777777777777778,\"#fb9f3a\"],[0.8888888888888888,\"#fdca26\"],[1.0,\"#f0f921\"]]}],\"heatmapgl\":[{\"type\":\"heatmapgl\",\"colorbar\":{\"outlinewidth\":0,\"ticks\":\"\"},\"colorscale\":[[0.0,\"#0d0887\"],[0.1111111111111111,\"#46039f\"],[0.2222222222222222,\"#7201a8\"],[0.3333333333333333,\"#9c179e\"],[0.4444444444444444,\"#bd3786\"],[0.5555555555555556,\"#d8576b\"],[0.6666666666666666,\"#ed7953\"],[0.7777777777777778,\"#fb9f3a\"],[0.8888888888888888,\"#fdca26\"],[1.0,\"#f0f921\"]]}],\"contourcarpet\":[{\"type\":\"contourcarpet\",\"colorbar\":{\"outlinewidth\":0,\"ticks\":\"\"}}],\"contour\":[{\"type\":\"contour\",\"colorbar\":{\"outlinewidth\":0,\"ticks\":\"\"},\"colorscale\":[[0.0,\"#0d0887\"],[0.1111111111111111,\"#46039f\"],[0.2222222222222222,\"#7201a8\"],[0.3333333333333333,\"#9c179e\"],[0.4444444444444444,\"#bd3786\"],[0.5555555555555556,\"#d8576b\"],[0.6666666666666666,\"#ed7953\"],[0.7777777777777778,\"#fb9f3a\"],[0.8888888888888888,\"#fdca26\"],[1.0,\"#f0f921\"]]}],\"surface\":[{\"type\":\"surface\",\"colorbar\":{\"outlinewidth\":0,\"ticks\":\"\"},\"colorscale\":[[0.0,\"#0d0887\"],[0.1111111111111111,\"#46039f\"],[0.2222222222222222,\"#7201a8\"],[0.3333333333333333,\"#9c179e\"],[0.4444444444444444,\"#bd3786\"],[0.5555555555555556,\"#d8576b\"],[0.6666666666666666,\"#ed7953\"],[0.7777777777777778,\"#fb9f3a\"],[0.8888888888888888,\"#fdca26\"],[1.0,\"#f0f921\"]]}],\"mesh3d\":[{\"type\":\"mesh3d\",\"colorbar\":{\"outlinewidth\":0,\"ticks\":\"\"}}],\"scatter\":[{\"fillpattern\":{\"fillmode\":\"overlay\",\"size\":10,\"solidity\":0.2},\"type\":\"scatter\"}],\"parcoords\":[{\"type\":\"parcoords\",\"line\":{\"colorbar\":{\"outlinewidth\":0,\"ticks\":\"\"}}}],\"scatterpolargl\":[{\"type\":\"scatterpolargl\",\"marker\":{\"colorbar\":{\"outlinewidth\":0,\"ticks\":\"\"}}}],\"bar\":[{\"error_x\":{\"color\":\"#2a3f5f\"},\"error_y\":{\"color\":\"#2a3f5f\"},\"marker\":{\"line\":{\"color\":\"#E5ECF6\",\"width\":0.5},\"pattern\":{\"fillmode\":\"overlay\",\"size\":10,\"solidity\":0.2}},\"type\":\"bar\"}],\"scattergeo\":[{\"type\":\"scattergeo\",\"marker\":{\"colorbar\":{\"outlinewidth\":0,\"ticks\":\"\"}}}],\"scatterpolar\":[{\"type\":\"scatterpolar\",\"marker\":{\"colorbar\":{\"outlinewidth\":0,\"ticks\":\"\"}}}],\"histogram\":[{\"marker\":{\"pattern\":{\"fillmode\":\"overlay\",\"size\":10,\"solidity\":0.2}},\"type\":\"histogram\"}],\"scattergl\":[{\"type\":\"scattergl\",\"marker\":{\"colorbar\":{\"outlinewidth\":0,\"ticks\":\"\"}}}],\"scatter3d\":[{\"type\":\"scatter3d\",\"line\":{\"colorbar\":{\"outlinewidth\":0,\"ticks\":\"\"}},\"marker\":{\"colorbar\":{\"outlinewidth\":0,\"ticks\":\"\"}}}],\"scattermapbox\":[{\"type\":\"scattermapbox\",\"marker\":{\"colorbar\":{\"outlinewidth\":0,\"ticks\":\"\"}}}],\"scatterternary\":[{\"type\":\"scatterternary\",\"marker\":{\"colorbar\":{\"outlinewidth\":0,\"ticks\":\"\"}}}],\"scattercarpet\":[{\"type\":\"scattercarpet\",\"marker\":{\"colorbar\":{\"outlinewidth\":0,\"ticks\":\"\"}}}],\"carpet\":[{\"aaxis\":{\"endlinecolor\":\"#2a3f5f\",\"gridcolor\":\"white\",\"linecolor\":\"white\",\"minorgridcolor\":\"white\",\"startlinecolor\":\"#2a3f5f\"},\"baxis\":{\"endlinecolor\":\"#2a3f5f\",\"gridcolor\":\"white\",\"linecolor\":\"white\",\"minorgridcolor\":\"white\",\"startlinecolor\":\"#2a3f5f\"},\"type\":\"carpet\"}],\"table\":[{\"cells\":{\"fill\":{\"color\":\"#EBF0F8\"},\"line\":{\"color\":\"white\"}},\"header\":{\"fill\":{\"color\":\"#C8D4E3\"},\"line\":{\"color\":\"white\"}},\"type\":\"table\"}],\"barpolar\":[{\"marker\":{\"line\":{\"color\":\"#E5ECF6\",\"width\":0.5},\"pattern\":{\"fillmode\":\"overlay\",\"size\":10,\"solidity\":0.2}},\"type\":\"barpolar\"}],\"pie\":[{\"automargin\":true,\"type\":\"pie\"}]},\"layout\":{\"autotypenumbers\":\"strict\",\"colorway\":[\"#636efa\",\"#EF553B\",\"#00cc96\",\"#ab63fa\",\"#FFA15A\",\"#19d3f3\",\"#FF6692\",\"#B6E880\",\"#FF97FF\",\"#FECB52\"],\"font\":{\"color\":\"#2a3f5f\"},\"hovermode\":\"closest\",\"hoverlabel\":{\"align\":\"left\"},\"paper_bgcolor\":\"white\",\"plot_bgcolor\":\"#E5ECF6\",\"polar\":{\"bgcolor\":\"#E5ECF6\",\"angularaxis\":{\"gridcolor\":\"white\",\"linecolor\":\"white\",\"ticks\":\"\"},\"radialaxis\":{\"gridcolor\":\"white\",\"linecolor\":\"white\",\"ticks\":\"\"}},\"ternary\":{\"bgcolor\":\"#E5ECF6\",\"aaxis\":{\"gridcolor\":\"white\",\"linecolor\":\"white\",\"ticks\":\"\"},\"baxis\":{\"gridcolor\":\"white\",\"linecolor\":\"white\",\"ticks\":\"\"},\"caxis\":{\"gridcolor\":\"white\",\"linecolor\":\"white\",\"ticks\":\"\"}},\"coloraxis\":{\"colorbar\":{\"outlinewidth\":0,\"ticks\":\"\"}},\"colorscale\":{\"sequential\":[[0.0,\"#0d0887\"],[0.1111111111111111,\"#46039f\"],[0.2222222222222222,\"#7201a8\"],[0.3333333333333333,\"#9c179e\"],[0.4444444444444444,\"#bd3786\"],[0.5555555555555556,\"#d8576b\"],[0.6666666666666666,\"#ed7953\"],[0.7777777777777778,\"#fb9f3a\"],[0.8888888888888888,\"#fdca26\"],[1.0,\"#f0f921\"]],\"sequentialminus\":[[0.0,\"#0d0887\"],[0.1111111111111111,\"#46039f\"],[0.2222222222222222,\"#7201a8\"],[0.3333333333333333,\"#9c179e\"],[0.4444444444444444,\"#bd3786\"],[0.5555555555555556,\"#d8576b\"],[0.6666666666666666,\"#ed7953\"],[0.7777777777777778,\"#fb9f3a\"],[0.8888888888888888,\"#fdca26\"],[1.0,\"#f0f921\"]],\"diverging\":[[0,\"#8e0152\"],[0.1,\"#c51b7d\"],[0.2,\"#de77ae\"],[0.3,\"#f1b6da\"],[0.4,\"#fde0ef\"],[0.5,\"#f7f7f7\"],[0.6,\"#e6f5d0\"],[0.7,\"#b8e186\"],[0.8,\"#7fbc41\"],[0.9,\"#4d9221\"],[1,\"#276419\"]]},\"xaxis\":{\"gridcolor\":\"white\",\"linecolor\":\"white\",\"ticks\":\"\",\"title\":{\"standoff\":15},\"zerolinecolor\":\"white\",\"automargin\":true,\"zerolinewidth\":2},\"yaxis\":{\"gridcolor\":\"white\",\"linecolor\":\"white\",\"ticks\":\"\",\"title\":{\"standoff\":15},\"zerolinecolor\":\"white\",\"automargin\":true,\"zerolinewidth\":2},\"scene\":{\"xaxis\":{\"backgroundcolor\":\"#E5ECF6\",\"gridcolor\":\"white\",\"linecolor\":\"white\",\"showbackground\":true,\"ticks\":\"\",\"zerolinecolor\":\"white\",\"gridwidth\":2},\"yaxis\":{\"backgroundcolor\":\"#E5ECF6\",\"gridcolor\":\"white\",\"linecolor\":\"white\",\"showbackground\":true,\"ticks\":\"\",\"zerolinecolor\":\"white\",\"gridwidth\":2},\"zaxis\":{\"backgroundcolor\":\"#E5ECF6\",\"gridcolor\":\"white\",\"linecolor\":\"white\",\"showbackground\":true,\"ticks\":\"\",\"zerolinecolor\":\"white\",\"gridwidth\":2}},\"shapedefaults\":{\"line\":{\"color\":\"#2a3f5f\"}},\"annotationdefaults\":{\"arrowcolor\":\"#2a3f5f\",\"arrowhead\":0,\"arrowwidth\":1},\"geo\":{\"bgcolor\":\"white\",\"landcolor\":\"#E5ECF6\",\"subunitcolor\":\"white\",\"showland\":true,\"showlakes\":true,\"lakecolor\":\"white\"},\"title\":{\"x\":0.05},\"mapbox\":{\"style\":\"light\"}}}},                        {\"responsive\": true}                    ).then(function(){\n",
              "                            \n",
              "var gd = document.getElementById('fe3f4619-0326-4758-b656-64878a5346fd');\n",
              "var x = new MutationObserver(function (mutations, observer) {{\n",
              "        var display = window.getComputedStyle(gd).display;\n",
              "        if (!display || display === 'none') {{\n",
              "            console.log([gd, 'removed!']);\n",
              "            Plotly.purge(gd);\n",
              "            observer.disconnect();\n",
              "        }}\n",
              "}});\n",
              "\n",
              "// Listen for the removal of the full notebook cells\n",
              "var notebookContainer = gd.closest('#notebook-container');\n",
              "if (notebookContainer) {{\n",
              "    x.observe(notebookContainer, {childList: true});\n",
              "}}\n",
              "\n",
              "// Listen for the clearing of the current output cell\n",
              "var outputEl = gd.closest('.output');\n",
              "if (outputEl) {{\n",
              "    x.observe(outputEl, {childList: true});\n",
              "}}\n",
              "\n",
              "                        })                };                            </script>        </div>\n",
              "</body>\n",
              "</html>"
            ]
          },
          "metadata": {}
        }
      ]
    },
    {
      "cell_type": "markdown",
      "metadata": {
        "id": "e45bba85"
      },
      "source": [
        "## Customize the visualization\n",
        "\n",
        "### Subtask:\n",
        "Set node sizes based on degree centrality, node colors based on betweenness centrality, and add labels for usernames.\n"
      ]
    },
    {
      "cell_type": "markdown",
      "metadata": {
        "id": "2c5533d6"
      },
      "source": [
        "## Display the visualization\n",
        "\n",
        "### Subtask:\n",
        "Display the interactive plot.\n"
      ]
    },
    {
      "cell_type": "markdown",
      "metadata": {
        "id": "abcebd36"
      },
      "source": [
        "**Reasoning**:\n",
        "Display the interactive Plotly figure.\n",
        "\n"
      ]
    },
    {
      "cell_type": "code",
      "metadata": {
        "colab": {
          "base_uri": "https://localhost:8080/",
          "height": 542
        },
        "id": "6aecba06",
        "outputId": "5ca44159-6d4c-4f39-c6b9-ce4c95afd39f"
      },
      "source": [
        "fig.show()"
      ],
      "execution_count": 18,
      "outputs": [
        {
          "output_type": "display_data",
          "data": {
            "text/html": [
              "<html>\n",
              "<head><meta charset=\"utf-8\" /></head>\n",
              "<body>\n",
              "    <div>            <script src=\"https://cdnjs.cloudflare.com/ajax/libs/mathjax/2.7.5/MathJax.js?config=TeX-AMS-MML_SVG\"></script><script type=\"text/javascript\">if (window.MathJax && window.MathJax.Hub && window.MathJax.Hub.Config) {window.MathJax.Hub.Config({SVG: {font: \"STIX-Web\"}});}</script>                <script type=\"text/javascript\">window.PlotlyConfig = {MathJaxConfig: 'local'};</script>\n",
              "        <script charset=\"utf-8\" src=\"https://cdn.plot.ly/plotly-2.35.2.min.js\"></script>                <div id=\"2e2efe67-4c9a-4d5f-aa4d-3947bf16e507\" class=\"plotly-graph-div\" style=\"height:525px; width:100%;\"></div>            <script type=\"text/javascript\">                                    window.PLOTLYENV=window.PLOTLYENV || {};                                    if (document.getElementById(\"2e2efe67-4c9a-4d5f-aa4d-3947bf16e507\")) {                    Plotly.newPlot(                        \"2e2efe67-4c9a-4d5f-aa4d-3947bf16e507\",                        [{\"hoverinfo\":\"none\",\"line\":{\"color\":\"#888\",\"width\":0.5},\"mode\":\"lines\",\"x\":[0.6175000406624689,0.5856712847020337,null,-0.23062774806875008,-0.24214087590032624,null,-0.24214087590032624,-0.24214087590032624,null,0.3405190555125156,0.79686392523766,null,0.3405190555125156,-0.11463969286936629,null,0.1252454330785401,0.19581880943672625,null,0.1433312899446192,0.19581880943672625,null,0.2036991193909268,0.19581880943672625,null,0.11137818304960191,0.19581880943672625,null,0.2560062366806925,0.19581880943672625,null,0.09570999638190449,0.19581880943672625,null,0.15831327207843585,0.19581880943672625,null,-0.46931991907549236,-0.5328459563937727,null,-0.5328459563937727,-0.5328459563937727,null,0.12706618555078053,0.30400651444598464,null,0.12706618555078053,-0.04428923807701916,null,0.30400651444598464,-0.04428923807701916,null,0.30400651444598464,0.8395378369422897,null,0.30400651444598464,-0.3182890458843081,null,0.30400651444598464,0.7754602992012476,null,0.10999028049725346,0.19581880943672625,null,0.13059559194599377,0.19581880943672625,null,0.15152705905888225,0.19581880943672625,null,-0.6340532122387785,-0.6922976470791314,null,0.18314558830685684,0.19581880943672625,null,0.2065964088176379,0.19581880943672625,null,0.11530465723302241,0.19581880943672625,null,-0.10667455304696874,0.5949503063276342,null,-0.10667455304696874,-0.8098899938660316,null,0.5949503063276342,0.6687940557388371,null,0.7754069822903062,0.7435342805091208,null,-0.18769870218112295,0.30400651444598464,null,-0.18769870218112295,-0.680169084467593,null,0.14477731774641214,0.19581880943672625,null,0.15676699322975912,0.19581880943672625,null,0.10631598726855182,0.19581880943672625,null,0.13851798091132037,0.19581880943672625,null,0.24336414936245485,0.19581880943672625,null,0.1457751020467638,0.19581880943672625,null,0.13998856300057178,0.19581880943672625,null,-0.44746017881683464,-0.5311371836866615,null,-0.10699519964451534,0.5949503063276342,null,-0.10699519964451534,-0.8098899938660316,null,-0.5844713711793587,-0.7906394410275995,null,0.09610453844476503,0.19581880943672625,null,0.11687296867174961,0.19581880943672625,null,0.11948223697788969,0.19581880943672625,null,0.16056298772624011,0.19581880943672625,null,0.23966157546784422,0.19581880943672625,null,-0.4935656597638579,-0.5328459563937727,null,-0.3436527948847924,-0.40798966998600783,null,-0.3262774033945001,-0.0176010263527236,null,-0.3262774033945001,-0.6359986663824713,null,0.3624271327063053,0.045414773312518926,null,0.3624271327063053,0.6815183766551931,null,0.045414773312518926,0.020413985345346677,null,0.17979992617484244,0.19581880943672625,null,-0.27041570175230795,-0.7815218987612098,null,-0.27041570175230795,0.24031390484675746,null,0.1822707212937121,0.19581880943672625,null,0.6386334507112956,0.7983801525006593,null,0.14230362963328014,0.19581880943672625,null,0.6285761955534176,0.7983801525006593,null,0.10530243874118239,0.19581880943672625,null,0.2187330684384475,0.19581880943672625,null,-0.45024022620301724,-0.5328459563937727,null,-0.18768435210640222,0.30400651444598464,null,-0.18768435210640222,-0.680169084467593,null,-0.8104421174605202,-0.8089485192877071,null,0.22470072775280303,0.19581880943672625,null,0.1305144842484131,0.19581880943672625,null,-0.5004592144179163,-0.6922976470791314,null,0.17266162125858303,0.19581880943672625,null,0.15493587935499853,0.19581880943672625,null,0.12794165068012425,0.10998787363175591,null,-0.4582234968034841,-0.10827195715248573,null,-0.4582234968034841,-0.8098899938660316,null,-0.10827195715248573,0.5949503063276342,null,-0.10827195715248573,-0.8098899938660316,null,-0.4587564945115015,-0.10827195715248573,null,-0.4587564945115015,-0.8098899938660316,null,-0.49785826452744014,-0.5328459563937727,null,0.15190975241233862,0.19581880943672625,null,0.11576706786139201,0.19581880943672625,null,0.1633688881686933,0.19581880943672625,null,0.20037492589842762,0.19581880943672625,null,0.1290210629305338,0.19581880943672625,null,0.1279301025840791,0.19581880943672625,null,0.23707341906156765,0.19581880943672625,null,-0.5908928332795954,-0.7906664658215764,null,-0.7964608108969868,-0.8089485192877071,null,0.17583260264698375,0.19581880943672625,null,0.16188299810532172,0.19581880943672625,null,-0.5555787880981843,-0.788751686461742,null,0.13004676093378842,0.19581880943672625,null,0.22029498261062883,0.19581880943672625,null,0.14455392588512006,0.19581880943672625,null,0.16947732667609774,0.19581880943672625,null,0.6283019506913877,0.7865838339945375,null,-0.20920513892703485,-0.2332355504775055,null,-0.5117330443487972,-0.5328459563937727,null,-0.5780796918997244,-0.8089485192877071,null,0.10234863874297777,0.19581880943672625,null,-0.5582048962962902,-0.7036510081018499,null,0.19957810939552545,0.19581880943672625,null,-0.5097003799881863,-0.5527711665338034,null,-0.432988571530393,-0.49785826452744014,null,0.2259715788610307,0.19581880943672625,null,0.1208658700302585,0.19581880943672625,null,0.12215967625624415,0.19581880943672625,null,0.10945607998552667,0.19581880943672625,null,0.23596098493904605,0.19581880943672625,null,-0.6755468603921287,-0.6495271894193025,null,-0.4246141204660603,-0.5527711665338034,null,0.1317911543516551,0.19581880943672625,null,0.10971018372795388,0.19581880943672625,null,0.21238343671447868,0.19581880943672625,null,-0.20882465042410145,-0.680169084467593,null,-0.20882465042410145,0.3323164623495637,null,-0.20882465042410145,-0.15235689084065077,null,-0.20882465042410145,-0.6749251857110816,null,0.17540219228170034,0.19581880943672625,null,0.14125446386331708,0.19581880943672625,null,0.1350006892856969,0.19581880943672625,null,0.12715867157459954,0.19581880943672625,null,0.10353387380978013,0.19581880943672625,null,0.19584694187146487,0.19581880943672625,null,-0.6892018227784636,-0.8089485192877071,null,0.12836233825136048,0.19581880943672625,null,0.12297934788109571,0.19581880943672625,null,0.14114840154417005,0.19581880943672625,null,0.11541941479004113,0.19581880943672625,null,0.25125169357608584,0.19581880943672625,null,0.5217938407498819,0.5960374987131589,null,-0.40031868140131166,-0.5328459563937727,null,0.14796869959664843,0.19581880943672625,null,-0.46402296568796003,-0.5916177290491823,null,0.5998092254220799,0.4937978731344405,null,0.5998092254220799,0.7077788824341272,null,0.13571498599071186,0.19581880943672625,null,0.7297898996157183,0.7983801525006593,null,0.10888808014721656,0.19581880943672625,null,0.19459700908506591,0.19581880943672625,null,-0.45798040473863644,-0.5328459563937727,null,-0.47024543051992135,-0.5328459563937727,null,0.5607113013514007,0.8052429903015813,null,0.5607113013514007,0.33036782898258976,null,-0.42527962375635725,-0.5137020981551247,null,-0.4702117390967852,-0.7323755691241225,null,0.5999642224840885,0.7248058644288464,null,-0.5754345971849768,-0.7556233524101679,null,0.14216587794520846,0.19581880943672625,null,0.5263333478786965,0.49351869963463996,null,0.16157268747160355,0.19581880943672625,null,0.11456239508438161,0.19581880943672625,null,0.11854134935749405,0.19581880943672625,null],\"y\":[-0.0749052051141785,-0.07162133527926624,null,0.9726551071962545,0.9505634950867857,null,0.9505634950867857,0.9505634950867857,null,0.4341632961150089,-0.09758380619772797,null,0.4341632961150089,0.9663503802459795,null,-0.5995972800168028,-0.5779870451356708,null,-0.38968685828677535,-0.5779870451356708,null,-0.6130947934626346,-0.5779870451356708,null,-0.45800727630404214,-0.5779870451356708,null,-0.565728814059353,-0.5779870451356708,null,-0.39316435398651767,-0.5779870451356708,null,-0.5809332937953029,-0.5779870451356708,null,0.6975252125971125,0.7384742897622936,null,0.7384742897622936,0.7384742897622936,null,0.7794920952788464,0.6397047375358897,null,0.7794920952788464,0.9305634003265382,null,0.6397047375358897,0.9305634003265382,null,0.6397047375358897,0.24382411153356548,null,0.6397047375358897,0.9414653887603879,null,0.6397047375358897,0.4888843556060612,null,-0.5464220033666659,-0.5779870451356708,null,-0.39108858748774444,-0.5779870451356708,null,-0.4537309485137021,-0.5779870451356708,null,-0.14732424752841553,-0.15619276401848667,null,-0.4959234458913675,-0.5779870451356708,null,-0.520929235048008,-0.5779870451356708,null,-0.5787222363946254,-0.5779870451356708,null,0.061094286438589135,0.06826778449612825,null,0.061094286438589135,0.05870828780666133,null,0.06826778449612825,0.07370503914271738,null,0.02397792026057352,0.023640535685093403,null,0.6368562203533322,0.6397047375358897,null,0.6368562203533322,0.6405960444729041,null,-0.41305889280836355,-0.5779870451356708,null,-0.5018311657570313,-0.5779870451356708,null,-0.38924313682102163,-0.5779870451356708,null,-0.5922375813722659,-0.5779870451356708,null,-0.54156001667804,-0.5779870451356708,null,-0.6076259838985477,-0.5779870451356708,null,-0.47974632624752434,-0.5779870451356708,null,-0.40385594610345094,-0.4867359104773417,null,0.06660247054854182,0.06826778449612825,null,0.06660247054854182,0.05870828780666133,null,0.3828801401415886,0.4673227063019006,null,-0.419073559874361,-0.5779870451356708,null,-0.40202893495083336,-0.5779870451356708,null,-0.419086483347089,-0.5779870451356708,null,-0.6247056794661728,-0.5779870451356708,null,-0.5638663224903907,-0.5779870451356708,null,0.7016337490354333,0.7384742897622936,null,0.7854870715771007,0.9185234847920299,null,0.2888700504135961,0.9718571790240962,null,0.2888700504135961,-0.39428423984643474,null,0.6987591486013931,0.9961287886954597,null,0.6987591486013931,0.40427349881622116,null,0.9961287886954597,0.9999999999999999,null,-0.5663890454268253,-0.5779870451356708,null,0.4978579329623463,0.15470221136724105,null,0.4978579329623463,0.8422681993699284,null,-0.46882703156359684,-0.5779870451356708,null,0.1519290723677125,0.17594630699533031,null,-0.5065047185055747,-0.5779870451356708,null,0.15705831220145036,0.17594630699533031,null,-0.4230811251614116,-0.5779870451356708,null,-0.5008253001040253,-0.5779870451356708,null,0.6580563589308709,0.7384742897622936,null,0.6410618746770256,0.6397047375358897,null,0.6410618746770256,0.6405960444729041,null,0.2710816754358755,0.294710987767596,null,-0.529769647342517,-0.5779870451356708,null,-0.5333673000783894,-0.5779870451356708,null,-0.11193422604830829,-0.15619276401848667,null,-0.4812633690948396,-0.5779870451356708,null,-0.47975751590316296,-0.5779870451356708,null,0.9285426459020714,0.9095415628188582,null,0.06380432116616958,0.06357784712844212,null,0.06380432116616958,0.05870828780666133,null,0.06357784712844212,0.06826778449612825,null,0.06357784712844212,0.05870828780666133,null,0.05891067417819973,0.06357784712844212,null,0.05891067417819973,0.05870828780666133,null,0.7253857491817092,0.7384742897622936,null,-0.4055284081364344,-0.5779870451356708,null,-0.4972454007967121,-0.5779870451356708,null,-0.4454880460788997,-0.5779870451356708,null,-0.5374671593952338,-0.5779870451356708,null,-0.47646186641107363,-0.5779870451356708,null,-0.5115726085597163,-0.5779870451356708,null,-0.5847033973275736,-0.5779870451356708,null,-0.059667661462076124,-0.09614364099665487,null,0.3146283242031642,0.294710987767596,null,-0.6183101746475159,-0.5779870451356708,null,-0.55407683666319,-0.5779870451356708,null,0.011030221693043588,-0.013400408468958265,null,-0.42620894637661366,-0.5779870451356708,null,-0.5861205584567205,-0.5779870451356708,null,-0.5763077003068618,-0.5779870451356708,null,-0.4960011841755005,-0.5779870451356708,null,0.283258371321397,0.332823414584173,null,0.6907734218290034,0.8738073067163351,null,0.69116658437042,0.7384742897622936,null,0.24310183187149711,0.294710987767596,null,-0.49083984188270985,-0.5779870451356708,null,-0.2555362352069483,-0.33178155182735053,null,-0.48141243756741664,-0.5779870451356708,null,-0.3682099402879459,-0.40071000782718064,null,0.6819292576212518,0.7253857491817092,null,-0.6062137318911424,-0.5779870451356708,null,-0.48386888868729555,-0.5779870451356708,null,-0.44864563498102494,-0.5779870451356708,null,-0.4125725290481236,-0.5779870451356708,null,-0.5187854997729962,-0.5779870451356708,null,0.4884056435261588,0.48835173573517165,null,-0.3023332022088756,-0.40071000782718064,null,-0.3799626381653377,-0.5779870451356708,null,-0.5137808601897035,-0.5779870451356708,null,-0.4915709090055107,-0.5779870451356708,null,0.32253750964275874,0.6405960444729041,null,0.32253750964275874,0.9718294538482658,null,0.32253750964275874,-0.6033425996349626,null,0.32253750964275874,0.5715566286132212,null,-0.4539436436008122,-0.5779870451356708,null,-0.3783155946456282,-0.5779870451356708,null,-0.4094273790586129,-0.5779870451356708,null,-0.4039595178275678,-0.5779870451356708,null,-0.40048620071171753,-0.5779870451356708,null,-0.496976859773181,-0.5779870451356708,null,0.2673676369899918,0.294710987767596,null,-0.5806893863468299,-0.5779870451356708,null,-0.3831199805505054,-0.5779870451356708,null,-0.46405064028898885,-0.5779870451356708,null,-0.5342033002335043,-0.5779870451356708,null,-0.5845494841199034,-0.5779870451356708,null,0.7231219191323474,0.8089662766177831,null,0.608824972762088,0.7384742897622936,null,-0.5307201779699202,-0.5779870451356708,null,0.6385399734840088,0.7708764611256547,null,0.6726374091197228,0.8015345181123458,null,0.6726374091197228,0.546984355051324,null,-0.5525873999129977,-0.5779870451356708,null,0.1673135412601096,0.17594630699533031,null,-0.4803738677531889,-0.5779870451356708,null,-0.6295511005407309,-0.5779870451356708,null,0.6720845898502117,0.7384742897622936,null,0.6617097200363083,0.7384742897622936,null,0.057487849880457395,0.3942566340480586,null,0.057487849880457395,-0.2765336048093287,null,0.7366942667303692,0.878030470176274,null,-0.09356563445572035,-0.19242493125895668,null,0.556287915943366,0.6545277940879418,null,-0.15392020663485317,-0.22607916828238694,null,-0.4436525333690485,-0.5779870451356708,null,0.7108890683568461,0.718637125154018,null,-0.5176857212220575,-0.5779870451356708,null,-0.38423495639944216,-0.5779870451356708,null,-0.5606334271290452,-0.5779870451356708,null],\"type\":\"scatter\"},{\"hoverinfo\":\"text\",\"marker\":{\"color\":[0.0,0.0,0.0,0.0,0.0,0.0,0.0,0.0,0.0,0.0,0.0,0.0,0.0,0.0,0.0,0.0,0.0,0.0,0.00033763044812768573,0.0,0.0,0.0,0.0,0.0,0.0,0.0,0.0,0.0,0.0,0.00015346838551258442,0.0,0.0,0.0,0.0,0.0,0.0,0.0,0.0,0.0,0.0,0.0,0.0,0.0,0.0,0.0,0.0,0.0,0.0,0.0,0.0,0.0,0.0,0.0,0.0,0.0,0.0,0.0,0.0,0.0,0.00003069367710251688,0.0,0.0,0.0,0.0,0.0,0.0,0.0,0.0,0.0,0.0,0.0,0.0,0.0,0.0,0.0,0.0,0.0,0.0,0.0,0.0,0.0,0.0,0.0,0.0,0.00012277470841006753,0.0,0.00003069367710251688,0.0,0.0,0.0,0.0,0.0,0.0,0.0,0.0,0.0,0.0,0.0,0.0,0.0,0.0,0.0,0.0,0.0,0.0,0.0,0.0,0.0,0.0,0.0,0.0,0.0,0.0,0.0,0.0,0.0,0.0,0.0,0.0,0.0,0.0,0.0,0.0,0.0,0.0,0.0,0.0,0.0,0.0,0.0,0.0,0.0,0.0,0.0,0.0,0.0,0.0,0.0,0.0,0.0,0.0,0.0,0.0,0.0,0.0,0.0,0.0,0.0,0.0,0.0,0.0,0.0,0.0,0.0,0.0,0.0,0.0,0.0,0.0,0.0,0.0,0.0,0.0,0.0,0.0,0.0,0.0,0.0,0.0,0.0,0.0,0.0,0.0,0.0,0.0,0.0,0.0,0.0,0.0,0.0,0.0,0.0],\"colorbar\":{\"thickness\":15,\"title\":{\"side\":\"right\",\"text\":\"Betweenness Centrality\"},\"xanchor\":\"left\"},\"colorscale\":[[0.0,\"rgb(255,255,217)\"],[0.125,\"rgb(237,248,177)\"],[0.25,\"rgb(199,233,180)\"],[0.375,\"rgb(127,205,187)\"],[0.5,\"rgb(65,182,196)\"],[0.625,\"rgb(29,145,192)\"],[0.75,\"rgb(34,94,168)\"],[0.875,\"rgb(37,52,148)\"],[1.0,\"rgb(8,29,88)\"]],\"line\":{\"width\":2},\"reversescale\":true,\"showscale\":true,\"size\":[0.2762430939226519,0.2762430939226519,0.2762430939226519,0.8287292817679558,0.5524861878453038,0.2762430939226519,0.2762430939226519,0.2762430939226519,20.994475138121548,0.2762430939226519,0.2762430939226519,0.2762430939226519,0.2762430939226519,0.2762430939226519,0.2762430939226519,0.2762430939226519,2.7624309392265194,0.5524861878453038,1.9337016574585635,0.5524861878453038,0.2762430939226519,0.2762430939226519,0.2762430939226519,0.2762430939226519,0.5524861878453038,0.2762430939226519,0.2762430939226519,0.2762430939226519,0.5524861878453038,1.1049723756906076,1.3812154696132597,0.2762430939226519,0.2762430939226519,0.5524861878453038,0.8287292817679558,0.2762430939226519,0.2762430939226519,0.2762430939226519,0.2762430939226519,0.2762430939226519,0.2762430939226519,0.2762430939226519,0.2762430939226519,0.2762430939226519,0.5524861878453038,0.2762430939226519,0.2762430939226519,0.2762430939226519,0.2762430939226519,0.2762430939226519,0.2762430939226519,0.2762430939226519,0.2762430939226519,0.2762430939226519,0.2762430939226519,0.5524861878453038,0.2762430939226519,0.2762430939226519,0.5524861878453038,0.5524861878453038,0.2762430939226519,0.2762430939226519,0.5524861878453038,0.2762430939226519,0.2762430939226519,0.2762430939226519,0.2762430939226519,0.8287292817679558,0.2762430939226519,0.2762430939226519,0.2762430939226519,0.2762430939226519,0.2762430939226519,0.5524861878453038,0.2762430939226519,1.1049723756906076,0.2762430939226519,0.2762430939226519,0.2762430939226519,0.2762430939226519,0.2762430939226519,0.2762430939226519,0.2762430939226519,0.5524861878453038,1.1049723756906076,0.5524861878453038,0.5524861878453038,0.2762430939226519,0.2762430939226519,0.2762430939226519,0.2762430939226519,0.2762430939226519,0.2762430939226519,0.2762430939226519,0.2762430939226519,0.2762430939226519,0.2762430939226519,0.2762430939226519,0.2762430939226519,0.2762430939226519,0.2762430939226519,0.2762430939226519,0.2762430939226519,0.2762430939226519,0.2762430939226519,0.2762430939226519,0.2762430939226519,0.2762430939226519,0.2762430939226519,0.2762430939226519,0.2762430939226519,0.2762430939226519,0.2762430939226519,0.2762430939226519,0.2762430939226519,0.2762430939226519,0.5524861878453038,0.2762430939226519,0.2762430939226519,0.2762430939226519,0.2762430939226519,0.2762430939226519,0.2762430939226519,0.2762430939226519,0.2762430939226519,0.2762430939226519,0.2762430939226519,0.2762430939226519,0.2762430939226519,1.1049723756906076,0.2762430939226519,0.2762430939226519,0.2762430939226519,0.2762430939226519,0.2762430939226519,0.2762430939226519,0.2762430939226519,0.2762430939226519,0.2762430939226519,0.2762430939226519,0.2762430939226519,0.2762430939226519,0.2762430939226519,0.2762430939226519,0.2762430939226519,0.2762430939226519,0.2762430939226519,0.2762430939226519,0.2762430939226519,0.2762430939226519,0.2762430939226519,0.2762430939226519,0.5524861878453038,0.2762430939226519,0.2762430939226519,0.2762430939226519,0.2762430939226519,0.2762430939226519,0.2762430939226519,0.2762430939226519,0.2762430939226519,0.2762430939226519,0.5524861878453038,0.2762430939226519,0.2762430939226519,0.2762430939226519,0.2762430939226519,0.2762430939226519,0.2762430939226519,0.2762430939226519,0.2762430939226519,0.2762430939226519,0.2762430939226519,0.2762430939226519,0.2762430939226519,0.2762430939226519,0.2762430939226519,0.2762430939226519,0.2762430939226519,0.2762430939226519,0.2762430939226519,0.2762430939226519]},\"mode\":\"markers\",\"text\":[\"User: roastbrief\\u003cbr\\u003eDegree Centrality: 0.0055\\u003cbr\\u003eBetweenness Centrality: 0.0000\",\"User: ZorayaMejia\\u003cbr\\u003eDegree Centrality: 0.0055\\u003cbr\\u003eBetweenness Centrality: 0.0000\",\"User: DCOD_Ai\\u003cbr\\u003eDegree Centrality: 0.0055\\u003cbr\\u003eBetweenness Centrality: 0.0000\",\"User: HaywaaWorldwide\\u003cbr\\u003eDegree Centrality: 0.0166\\u003cbr\\u003eBetweenness Centrality: 0.0000\",\"User: DataDropai\\u003cbr\\u003eDegree Centrality: 0.0110\\u003cbr\\u003eBetweenness Centrality: 0.0000\",\"User: jinwashu\\u003cbr\\u003eDegree Centrality: 0.0055\\u003cbr\\u003eBetweenness Centrality: 0.0000\",\"User: MikeWaters121\\u003cbr\\u003eDegree Centrality: 0.0055\\u003cbr\\u003eBetweenness Centrality: 0.0000\",\"User: GalaxColor\\u003cbr\\u003eDegree Centrality: 0.0055\\u003cbr\\u003eBetweenness Centrality: 0.0000\",\"User: AmandaDannielle\\u003cbr\\u003eDegree Centrality: 0.4199\\u003cbr\\u003eBetweenness Centrality: 0.0000\",\"User: GraceMolteni\\u003cbr\\u003eDegree Centrality: 0.0055\\u003cbr\\u003eBetweenness Centrality: 0.0000\",\"User: goodbisexual\\u003cbr\\u003eDegree Centrality: 0.0055\\u003cbr\\u003eBetweenness Centrality: 0.0000\",\"User: Kuro_no_otaku\\u003cbr\\u003eDegree Centrality: 0.0055\\u003cbr\\u003eBetweenness Centrality: 0.0000\",\"User: xleomahux\\u003cbr\\u003eDegree Centrality: 0.0055\\u003cbr\\u003eBetweenness Centrality: 0.0000\",\"User: werepuppi\\u003cbr\\u003eDegree Centrality: 0.0055\\u003cbr\\u003eBetweenness Centrality: 0.0000\",\"User: nickyy0313\\u003cbr\\u003eDegree Centrality: 0.0055\\u003cbr\\u003eBetweenness Centrality: 0.0000\",\"User: MrGanSun\\u003cbr\\u003eDegree Centrality: 0.0055\\u003cbr\\u003eBetweenness Centrality: 0.0000\",\"User: myexamcloud\\u003cbr\\u003eDegree Centrality: 0.0552\\u003cbr\\u003eBetweenness Centrality: 0.0000\",\"User: gl4ssesbo1\\u003cbr\\u003eDegree Centrality: 0.0110\\u003cbr\\u003eBetweenness Centrality: 0.0000\",\"User: Ronald_vanLoon\\u003cbr\\u003eDegree Centrality: 0.0387\\u003cbr\\u003eBetweenness Centrality: 0.0003\",\"User: Python_Dv\\u003cbr\\u003eDegree Centrality: 0.0110\\u003cbr\\u003eBetweenness Centrality: 0.0000\",\"User: _boago_\\u003cbr\\u003eDegree Centrality: 0.0055\\u003cbr\\u003eBetweenness Centrality: 0.0000\",\"User: dolcebellabaker\\u003cbr\\u003eDegree Centrality: 0.0055\\u003cbr\\u003eBetweenness Centrality: 0.0000\",\"User: saturnspetgoat\\u003cbr\\u003eDegree Centrality: 0.0055\\u003cbr\\u003eBetweenness Centrality: 0.0000\",\"User: acidic205\\u003cbr\\u003eDegree Centrality: 0.0055\\u003cbr\\u003eBetweenness Centrality: 0.0000\",\"User: courtandsuns\\u003cbr\\u003eDegree Centrality: 0.0110\\u003cbr\\u003eBetweenness Centrality: 0.0000\",\"User: eldisig\\u003cbr\\u003eDegree Centrality: 0.0055\\u003cbr\\u003eBetweenness Centrality: 0.0000\",\"User: Celokuhle_69\\u003cbr\\u003eDegree Centrality: 0.0055\\u003cbr\\u003eBetweenness Centrality: 0.0000\",\"User: wh0r3_era\\u003cbr\\u003eDegree Centrality: 0.0055\\u003cbr\\u003eBetweenness Centrality: 0.0000\",\"User: fullstackrole\\u003cbr\\u003eDegree Centrality: 0.0110\\u003cbr\\u003eBetweenness Centrality: 0.0000\",\"User: Transform_Sec\\u003cbr\\u003eDegree Centrality: 0.0221\\u003cbr\\u003eBetweenness Centrality: 0.0002\",\"User: helpnetsecurity\\u003cbr\\u003eDegree Centrality: 0.0276\\u003cbr\\u003eBetweenness Centrality: 0.0000\",\"User: ecomputerbooks\\u003cbr\\u003eDegree Centrality: 0.0055\\u003cbr\\u003eBetweenness Centrality: 0.0000\",\"User: Ym78200\\u003cbr\\u003eDegree Centrality: 0.0055\\u003cbr\\u003eBetweenness Centrality: 0.0000\",\"User: jimenapeaok\\u003cbr\\u003eDegree Centrality: 0.0110\\u003cbr\\u003eBetweenness Centrality: 0.0000\",\"User: Khulood_Almani\\u003cbr\\u003eDegree Centrality: 0.0166\\u003cbr\\u003eBetweenness Centrality: 0.0000\",\"User: stormbeaut\\u003cbr\\u003eDegree Centrality: 0.0055\\u003cbr\\u003eBetweenness Centrality: 0.0000\",\"User: doublefoursys\\u003cbr\\u003eDegree Centrality: 0.0055\\u003cbr\\u003eBetweenness Centrality: 0.0000\",\"User: hiddendruid\\u003cbr\\u003eDegree Centrality: 0.0055\\u003cbr\\u003eBetweenness Centrality: 0.0000\",\"User: TheChiButterfly\\u003cbr\\u003eDegree Centrality: 0.0055\\u003cbr\\u003eBetweenness Centrality: 0.0000\",\"User: MarooninCar62\\u003cbr\\u003eDegree Centrality: 0.0055\\u003cbr\\u003eBetweenness Centrality: 0.0000\",\"User: meatsock2000\\u003cbr\\u003eDegree Centrality: 0.0055\\u003cbr\\u003eBetweenness Centrality: 0.0000\",\"User: acerosedrop\\u003cbr\\u003eDegree Centrality: 0.0055\\u003cbr\\u003eBetweenness Centrality: 0.0000\",\"User: Casablanca369\\u003cbr\\u003eDegree Centrality: 0.0055\\u003cbr\\u003eBetweenness Centrality: 0.0000\",\"User: THR\\u003cbr\\u003eDegree Centrality: 0.0055\\u003cbr\\u003eBetweenness Centrality: 0.0000\",\"User: pythonnewsorg\\u003cbr\\u003eDegree Centrality: 0.0110\\u003cbr\\u003eBetweenness Centrality: 0.0000\",\"User: IRISSoftware\\u003cbr\\u003eDegree Centrality: 0.0055\\u003cbr\\u003eBetweenness Centrality: 0.0000\",\"User: generativeai_re\\u003cbr\\u003eDegree Centrality: 0.0055\\u003cbr\\u003eBetweenness Centrality: 0.0000\",\"User: DaneEnerio\\u003cbr\\u003eDegree Centrality: 0.0055\\u003cbr\\u003eBetweenness Centrality: 0.0000\",\"User: olsbear\\u003cbr\\u003eDegree Centrality: 0.0055\\u003cbr\\u003eBetweenness Centrality: 0.0000\",\"User: __n32_\\u003cbr\\u003eDegree Centrality: 0.0055\\u003cbr\\u003eBetweenness Centrality: 0.0000\",\"User: bugznbolts\\u003cbr\\u003eDegree Centrality: 0.0055\\u003cbr\\u003eBetweenness Centrality: 0.0000\",\"User: RoyaIGarden\\u003cbr\\u003eDegree Centrality: 0.0055\\u003cbr\\u003eBetweenness Centrality: 0.0000\",\"User: WillyRayNick\\u003cbr\\u003eDegree Centrality: 0.0055\\u003cbr\\u003eBetweenness Centrality: 0.0000\",\"User: ToomooIArt\\u003cbr\\u003eDegree Centrality: 0.0055\\u003cbr\\u003eBetweenness Centrality: 0.0000\",\"User: jblefevre60\\u003cbr\\u003eDegree Centrality: 0.0055\\u003cbr\\u003eBetweenness Centrality: 0.0000\",\"User: IotMore\\u003cbr\\u003eDegree Centrality: 0.0110\\u003cbr\\u003eBetweenness Centrality: 0.0000\",\"User: Fujitsu_Global\\u003cbr\\u003eDegree Centrality: 0.0055\\u003cbr\\u003eBetweenness Centrality: 0.0000\",\"User: sonybank_jp\\u003cbr\\u003eDegree Centrality: 0.0055\\u003cbr\\u003eBetweenness Centrality: 0.0000\",\"User: itbusinesstoday\\u003cbr\\u003eDegree Centrality: 0.0110\\u003cbr\\u003eBetweenness Centrality: 0.0000\",\"User: grok\\u003cbr\\u003eDegree Centrality: 0.0110\\u003cbr\\u003eBetweenness Centrality: 0.0000\",\"User: a\\u003cbr\\u003eDegree Centrality: 0.0055\\u003cbr\\u003eBetweenness Centrality: 0.0000\",\"User: maln0urish3d\\u003cbr\\u003eDegree Centrality: 0.0055\\u003cbr\\u003eBetweenness Centrality: 0.0000\",\"User: yayansurya1983\\u003cbr\\u003eDegree Centrality: 0.0110\\u003cbr\\u003eBetweenness Centrality: 0.0000\",\"User: AuliyanaMuzi\\u003cbr\\u003eDegree Centrality: 0.0055\\u003cbr\\u003eBetweenness Centrality: 0.0000\",\"User: ShopeeID\\u003cbr\\u003eDegree Centrality: 0.0055\\u003cbr\\u003eBetweenness Centrality: 0.0000\",\"User: jalynnroxs\\u003cbr\\u003eDegree Centrality: 0.0055\\u003cbr\\u003eBetweenness Centrality: 0.0000\",\"User: ssodainvads\\u003cbr\\u003eDegree Centrality: 0.0055\\u003cbr\\u003eBetweenness Centrality: 0.0000\",\"User: Kurz_Gesagt\\u003cbr\\u003eDegree Centrality: 0.0166\\u003cbr\\u003eBetweenness Centrality: 0.0000\",\"User: h0eh0\\u003cbr\\u003eDegree Centrality: 0.0055\\u003cbr\\u003eBetweenness Centrality: 0.0000\",\"User: tngkuuu\\u003cbr\\u003eDegree Centrality: 0.0055\\u003cbr\\u003eBetweenness Centrality: 0.0000\",\"User: heehoonhours\\u003cbr\\u003eDegree Centrality: 0.0055\\u003cbr\\u003eBetweenness Centrality: 0.0000\",\"User: TaeBabyyBear\\u003cbr\\u003eDegree Centrality: 0.0055\\u003cbr\\u003eBetweenness Centrality: 0.0000\",\"User: epractizelabs\\u003cbr\\u003eDegree Centrality: 0.0055\\u003cbr\\u003eBetweenness Centrality: 0.0000\",\"User: R_Philokypros\\u003cbr\\u003eDegree Centrality: 0.0110\\u003cbr\\u003eBetweenness Centrality: 0.0000\",\"User: Cacilie_Blaas\\u003cbr\\u003eDegree Centrality: 0.0055\\u003cbr\\u003eBetweenness Centrality: 0.0000\",\"User: bratsupernova\\u003cbr\\u003eDegree Centrality: 0.0221\\u003cbr\\u003eBetweenness Centrality: 0.0000\",\"User: Lostinjingshi\\u003cbr\\u003eDegree Centrality: 0.0055\\u003cbr\\u003eBetweenness Centrality: 0.0000\",\"User: HiKabirrr\\u003cbr\\u003eDegree Centrality: 0.0055\\u003cbr\\u003eBetweenness Centrality: 0.0000\",\"User: hotheadpaisana\\u003cbr\\u003eDegree Centrality: 0.0055\\u003cbr\\u003eBetweenness Centrality: 0.0000\",\"User: SkeletalNoises\\u003cbr\\u003eDegree Centrality: 0.0055\\u003cbr\\u003eBetweenness Centrality: 0.0000\",\"User: Nitz2206\\u003cbr\\u003eDegree Centrality: 0.0055\\u003cbr\\u003eBetweenness Centrality: 0.0000\",\"User: laurensayshilol\\u003cbr\\u003eDegree Centrality: 0.0055\\u003cbr\\u003eBetweenness Centrality: 0.0000\",\"User: henry_zach_\\u003cbr\\u003eDegree Centrality: 0.0055\\u003cbr\\u003eBetweenness Centrality: 0.0000\",\"User: corixpartners\\u003cbr\\u003eDegree Centrality: 0.0110\\u003cbr\\u003eBetweenness Centrality: 0.0000\",\"User: Corix_JC\\u003cbr\\u003eDegree Centrality: 0.0221\\u003cbr\\u003eBetweenness Centrality: 0.0001\",\"User: javanewsorg\\u003cbr\\u003eDegree Centrality: 0.0110\\u003cbr\\u003eBetweenness Centrality: 0.0000\",\"User: xboxmayn\\u003cbr\\u003eDegree Centrality: 0.0110\\u003cbr\\u003eBetweenness Centrality: 0.0000\",\"User: quick_cat_tl\\u003cbr\\u003eDegree Centrality: 0.0055\\u003cbr\\u003eBetweenness Centrality: 0.0000\",\"User: komosgoogi\\u003cbr\\u003eDegree Centrality: 0.0055\\u003cbr\\u003eBetweenness Centrality: 0.0000\",\"User: listl355\\u003cbr\\u003eDegree Centrality: 0.0055\\u003cbr\\u003eBetweenness Centrality: 0.0000\",\"User: Brown_Wantholf\\u003cbr\\u003eDegree Centrality: 0.0055\\u003cbr\\u003eBetweenness Centrality: 0.0000\",\"User: CriticalRoleAce\\u003cbr\\u003eDegree Centrality: 0.0055\\u003cbr\\u003eBetweenness Centrality: 0.0000\",\"User: Tortuarmy\\u003cbr\\u003eDegree Centrality: 0.0055\\u003cbr\\u003eBetweenness Centrality: 0.0000\",\"User: Nics981\\u003cbr\\u003eDegree Centrality: 0.0055\\u003cbr\\u003eBetweenness Centrality: 0.0000\",\"User: HappiestMinds\\u003cbr\\u003eDegree Centrality: 0.0055\\u003cbr\\u003eBetweenness Centrality: 0.0000\",\"User: Hitachi\\u003cbr\\u003eDegree Centrality: 0.0055\\u003cbr\\u003eBetweenness Centrality: 0.0000\",\"User: meilleureenemie\\u003cbr\\u003eDegree Centrality: 0.0055\\u003cbr\\u003eBetweenness Centrality: 0.0000\",\"User: drinkfallhealy\\u003cbr\\u003eDegree Centrality: 0.0055\\u003cbr\\u003eBetweenness Centrality: 0.0000\",\"User: formalcasualty\\u003cbr\\u003eDegree Centrality: 0.0055\\u003cbr\\u003eBetweenness Centrality: 0.0000\",\"User: DragaIsAFool\\u003cbr\\u003eDegree Centrality: 0.0055\\u003cbr\\u003eBetweenness Centrality: 0.0000\",\"User: raezeerr\\u003cbr\\u003eDegree Centrality: 0.0055\\u003cbr\\u003eBetweenness Centrality: 0.0000\",\"User: Tears0fGarnet\\u003cbr\\u003eDegree Centrality: 0.0055\\u003cbr\\u003eBetweenness Centrality: 0.0000\",\"User: Kiibabey\\u003cbr\\u003eDegree Centrality: 0.0055\\u003cbr\\u003eBetweenness Centrality: 0.0000\",\"User: stunninmarie\\u003cbr\\u003eDegree Centrality: 0.0055\\u003cbr\\u003eBetweenness Centrality: 0.0000\",\"User: NuckyChicky\\u003cbr\\u003eDegree Centrality: 0.0055\\u003cbr\\u003eBetweenness Centrality: 0.0000\",\"User: dInnovaTrain\\u003cbr\\u003eDegree Centrality: 0.0055\\u003cbr\\u003eBetweenness Centrality: 0.0000\",\"User: ipfconline1\\u003cbr\\u003eDegree Centrality: 0.0055\\u003cbr\\u003eBetweenness Centrality: 0.0000\",\"User: vrajshah959\\u003cbr\\u003eDegree Centrality: 0.0055\\u003cbr\\u003eBetweenness Centrality: 0.0000\",\"User: luisnomad\\u003cbr\\u003eDegree Centrality: 0.0055\\u003cbr\\u003eBetweenness Centrality: 0.0000\",\"User: onetowan\\u003cbr\\u003eDegree Centrality: 0.0055\\u003cbr\\u003eBetweenness Centrality: 0.0000\",\"User: adoringsteve\\u003cbr\\u003eDegree Centrality: 0.0055\\u003cbr\\u003eBetweenness Centrality: 0.0000\",\"User: mariummun\\u003cbr\\u003eDegree Centrality: 0.0055\\u003cbr\\u003eBetweenness Centrality: 0.0000\",\"User: pronosome\\u003cbr\\u003eDegree Centrality: 0.0055\\u003cbr\\u003eBetweenness Centrality: 0.0000\",\"User: usagiqueeffart\\u003cbr\\u003eDegree Centrality: 0.0055\\u003cbr\\u003eBetweenness Centrality: 0.0000\",\"User: minwonisz\\u003cbr\\u003eDegree Centrality: 0.0055\\u003cbr\\u003eBetweenness Centrality: 0.0000\",\"User: six3_D\\u003cbr\\u003eDegree Centrality: 0.0055\\u003cbr\\u003eBetweenness Centrality: 0.0000\",\"User: umaatnitee\\u003cbr\\u003eDegree Centrality: 0.0110\\u003cbr\\u003eBetweenness Centrality: 0.0000\",\"User: bulbi59\\u003cbr\\u003eDegree Centrality: 0.0055\\u003cbr\\u003eBetweenness Centrality: 0.0000\",\"User: Spirit_Bringer\\u003cbr\\u003eDegree Centrality: 0.0055\\u003cbr\\u003eBetweenness Centrality: 0.0000\",\"User: nxlzxxn\\u003cbr\\u003eDegree Centrality: 0.0055\\u003cbr\\u003eBetweenness Centrality: 0.0000\",\"User: v3nusbabi\\u003cbr\\u003eDegree Centrality: 0.0055\\u003cbr\\u003eBetweenness Centrality: 0.0000\",\"User: bledyellow\\u003cbr\\u003eDegree Centrality: 0.0055\\u003cbr\\u003eBetweenness Centrality: 0.0000\",\"User: RuvikKin\\u003cbr\\u003eDegree Centrality: 0.0055\\u003cbr\\u003eBetweenness Centrality: 0.0000\",\"User: ikariharahara\\u003cbr\\u003eDegree Centrality: 0.0055\\u003cbr\\u003eBetweenness Centrality: 0.0000\",\"User: higan_wafu\\u003cbr\\u003eDegree Centrality: 0.0055\\u003cbr\\u003eBetweenness Centrality: 0.0000\",\"User: qsogolden\\u003cbr\\u003eDegree Centrality: 0.0055\\u003cbr\\u003eBetweenness Centrality: 0.0000\",\"User: TheHermitsTarot\\u003cbr\\u003eDegree Centrality: 0.0055\\u003cbr\\u003eBetweenness Centrality: 0.0000\",\"User: brockett_ryan\\u003cbr\\u003eDegree Centrality: 0.0055\\u003cbr\\u003eBetweenness Centrality: 0.0000\",\"User: sumirza\\u003cbr\\u003eDegree Centrality: 0.0055\\u003cbr\\u003eBetweenness Centrality: 0.0000\",\"User: R_Demidchuk\\u003cbr\\u003eDegree Centrality: 0.0221\\u003cbr\\u003eBetweenness Centrality: 0.0000\",\"User: DirkSchaar\\u003cbr\\u003eDegree Centrality: 0.0055\\u003cbr\\u003eBetweenness Centrality: 0.0000\",\"User: chidambara09\\u003cbr\\u003eDegree Centrality: 0.0055\\u003cbr\\u003eBetweenness Centrality: 0.0000\",\"User: AndrewYNg\\u003cbr\\u003eDegree Centrality: 0.0055\\u003cbr\\u003eBetweenness Centrality: 0.0000\",\"User: callmejud3\\u003cbr\\u003eDegree Centrality: 0.0055\\u003cbr\\u003eBetweenness Centrality: 0.0000\",\"User: ns1012rs\\u003cbr\\u003eDegree Centrality: 0.0055\\u003cbr\\u003eBetweenness Centrality: 0.0000\",\"User: wittlstminotaur\\u003cbr\\u003eDegree Centrality: 0.0055\\u003cbr\\u003eBetweenness Centrality: 0.0000\",\"User: _BBloom\\u003cbr\\u003eDegree Centrality: 0.0055\\u003cbr\\u003eBetweenness Centrality: 0.0000\",\"User: gennnabee\\u003cbr\\u003eDegree Centrality: 0.0055\\u003cbr\\u003eBetweenness Centrality: 0.0000\",\"User: Charlie__Willis\\u003cbr\\u003eDegree Centrality: 0.0055\\u003cbr\\u003eBetweenness Centrality: 0.0000\",\"User: gumchest\\u003cbr\\u003eDegree Centrality: 0.0055\\u003cbr\\u003eBetweenness Centrality: 0.0000\",\"User: adamkeepluh\\u003cbr\\u003eDegree Centrality: 0.0055\\u003cbr\\u003eBetweenness Centrality: 0.0000\",\"User: LAW2025_NeurIPS\\u003cbr\\u003eDegree Centrality: 0.0055\\u003cbr\\u003eBetweenness Centrality: 0.0000\",\"User: nickichimchim\\u003cbr\\u003eDegree Centrality: 0.0055\\u003cbr\\u003eBetweenness Centrality: 0.0000\",\"User: phant_shroom\\u003cbr\\u003eDegree Centrality: 0.0055\\u003cbr\\u003eBetweenness Centrality: 0.0000\",\"User: cuntent\\u003cbr\\u003eDegree Centrality: 0.0055\\u003cbr\\u003eBetweenness Centrality: 0.0000\",\"User: 127waystocry\\u003cbr\\u003eDegree Centrality: 0.0055\\u003cbr\\u003eBetweenness Centrality: 0.0000\",\"User: pythonfreshers\\u003cbr\\u003eDegree Centrality: 0.0055\\u003cbr\\u003eBetweenness Centrality: 0.0000\",\"User: OpenAI\\u003cbr\\u003eDegree Centrality: 0.0055\\u003cbr\\u003eBetweenness Centrality: 0.0000\",\"User: RichjWsi\\u003cbr\\u003eDegree Centrality: 0.0055\\u003cbr\\u003eBetweenness Centrality: 0.0000\",\"User: lolurnotdylanx\\u003cbr\\u003eDegree Centrality: 0.0055\\u003cbr\\u003eBetweenness Centrality: 0.0000\",\"User: engisoud\\u003cbr\\u003eDegree Centrality: 0.0055\\u003cbr\\u003eBetweenness Centrality: 0.0000\",\"User: AIBrewlineMusic\\u003cbr\\u003eDegree Centrality: 0.0055\\u003cbr\\u003eBetweenness Centrality: 0.0000\",\"User: dailyartdev\\u003cbr\\u003eDegree Centrality: 0.0110\\u003cbr\\u003eBetweenness Centrality: 0.0000\",\"User: InAIToday\\u003cbr\\u003eDegree Centrality: 0.0055\\u003cbr\\u003eBetweenness Centrality: 0.0000\",\"User: ExtremeNetworks\\u003cbr\\u003eDegree Centrality: 0.0055\\u003cbr\\u003eBetweenness Centrality: 0.0000\",\"User: hamdeep_\\u003cbr\\u003eDegree Centrality: 0.0055\\u003cbr\\u003eBetweenness Centrality: 0.0000\",\"User: paulthies2\\u003cbr\\u003eDegree Centrality: 0.0055\\u003cbr\\u003eBetweenness Centrality: 0.0000\",\"User: riawastolerated\\u003cbr\\u003eDegree Centrality: 0.0055\\u003cbr\\u003eBetweenness Centrality: 0.0000\",\"User: rohanzupp\\u003cbr\\u003eDegree Centrality: 0.0055\\u003cbr\\u003eBetweenness Centrality: 0.0000\",\"User: _requinem\\u003cbr\\u003eDegree Centrality: 0.0055\\u003cbr\\u003eBetweenness Centrality: 0.0000\",\"User: javafreshershub\\u003cbr\\u003eDegree Centrality: 0.0055\\u003cbr\\u003eBetweenness Centrality: 0.0000\",\"User: examnewsorg\\u003cbr\\u003eDegree Centrality: 0.0055\\u003cbr\\u003eBetweenness Centrality: 0.0000\",\"User: ITDigestmag\\u003cbr\\u003eDegree Centrality: 0.0110\\u003cbr\\u003eBetweenness Centrality: 0.0000\",\"User: exaforceAI\\u003cbr\\u003eDegree Centrality: 0.0055\\u003cbr\\u003eBetweenness Centrality: 0.0000\",\"User: AWSstartups\\u003cbr\\u003eDegree Centrality: 0.0055\\u003cbr\\u003eBetweenness Centrality: 0.0000\",\"User: pastsmartlink\\u003cbr\\u003eDegree Centrality: 0.0055\\u003cbr\\u003eBetweenness Centrality: 0.0000\",\"User: CCCI_Cyprus\\u003cbr\\u003eDegree Centrality: 0.0055\\u003cbr\\u003eBetweenness Centrality: 0.0000\",\"User: dharmisthabaid\\u003cbr\\u003eDegree Centrality: 0.0055\\u003cbr\\u003eBetweenness Centrality: 0.0000\",\"User: bravo_abad\\u003cbr\\u003eDegree Centrality: 0.0055\\u003cbr\\u003eBetweenness Centrality: 0.0000\",\"User: aure79lien\\u003cbr\\u003eDegree Centrality: 0.0055\\u003cbr\\u003eBetweenness Centrality: 0.0000\",\"User: VisualpathPro\\u003cbr\\u003eDegree Centrality: 0.0055\\u003cbr\\u003eBetweenness Centrality: 0.0000\",\"User: Amarantos_Ley\\u003cbr\\u003eDegree Centrality: 0.0055\\u003cbr\\u003eBetweenness Centrality: 0.0000\",\"User: NintendoCoLtd\\u003cbr\\u003eDegree Centrality: 0.0055\\u003cbr\\u003eBetweenness Centrality: 0.0000\",\"User: Lumeapho\\u003cbr\\u003eDegree Centrality: 0.0055\\u003cbr\\u003eBetweenness Centrality: 0.0000\",\"User: IainLJBrown\\u003cbr\\u003eDegree Centrality: 0.0055\\u003cbr\\u003eBetweenness Centrality: 0.0000\",\"User: Paula_Piccard\\u003cbr\\u003eDegree Centrality: 0.0055\\u003cbr\\u003eBetweenness Centrality: 0.0000\",\"User: karpathy\\u003cbr\\u003eDegree Centrality: 0.0055\\u003cbr\\u003eBetweenness Centrality: 0.0000\",\"User: FES_FoW\\u003cbr\\u003eDegree Centrality: 0.0055\\u003cbr\\u003eBetweenness Centrality: 0.0000\",\"User: BernardMarr\\u003cbr\\u003eDegree Centrality: 0.0055\\u003cbr\\u003eBetweenness Centrality: 0.0000\",\"User: Jailee__\\u003cbr\\u003eDegree Centrality: 0.0055\\u003cbr\\u003eBetweenness Centrality: 0.0000\",\"User: onskyway\\u003cbr\\u003eDegree Centrality: 0.0055\\u003cbr\\u003eBetweenness Centrality: 0.0000\",\"User: wazazey\\u003cbr\\u003eDegree Centrality: 0.0055\\u003cbr\\u003eBetweenness Centrality: 0.0000\"],\"x\":[0.6175000406624689,0.5856712847020337,-0.23062774806875008,-0.24214087590032624,0.3405190555125156,0.79686392523766,-0.11463969286936629,0.1252454330785401,0.19581880943672625,0.1433312899446192,0.2036991193909268,0.11137818304960191,0.2560062366806925,0.09570999638190449,0.15831327207843585,-0.46931991907549236,-0.5328459563937727,0.12706618555078053,0.30400651444598464,-0.04428923807701916,0.10999028049725346,0.13059559194599377,0.15152705905888225,-0.6340532122387785,-0.6922976470791314,0.18314558830685684,0.2065964088176379,0.11530465723302241,-0.10667455304696874,0.5949503063276342,-0.8098899938660316,0.7754069822903062,0.7435342805091208,-0.18769870218112295,-0.680169084467593,0.14477731774641214,0.15676699322975912,0.10631598726855182,0.13851798091132037,0.24336414936245485,0.1457751020467638,0.13998856300057178,-0.44746017881683464,-0.5311371836866615,-0.10699519964451534,-0.5844713711793587,-0.7906394410275995,0.09610453844476503,0.11687296867174961,0.11948223697788969,0.16056298772624011,0.23966157546784422,-0.4935656597638579,-0.3436527948847924,-0.40798966998600783,-0.3262774033945001,-0.0176010263527236,-0.6359986663824713,0.3624271327063053,0.045414773312518926,0.6815183766551931,0.17979992617484244,-0.27041570175230795,-0.7815218987612098,0.24031390484675746,0.1822707212937121,0.6386334507112956,0.7983801525006593,0.14230362963328014,0.6285761955534176,0.10530243874118239,0.2187330684384475,-0.45024022620301724,-0.18768435210640222,-0.8104421174605202,-0.8089485192877071,0.22470072775280303,0.1305144842484131,-0.5004592144179163,0.17266162125858303,0.15493587935499853,0.12794165068012425,0.10998787363175591,-0.4582234968034841,-0.10827195715248573,-0.4587564945115015,-0.49785826452744014,0.15190975241233862,0.11576706786139201,0.1633688881686933,0.20037492589842762,0.1290210629305338,0.1279301025840791,0.23707341906156765,-0.5908928332795954,-0.7906664658215764,-0.7964608108969868,0.17583260264698375,0.16188299810532172,-0.5555787880981843,-0.788751686461742,0.13004676093378842,0.22029498261062883,0.14455392588512006,0.16947732667609774,0.6283019506913877,0.7865838339945375,-0.20920513892703485,-0.2332355504775055,-0.5117330443487972,-0.5780796918997244,0.10234863874297777,-0.5582048962962902,-0.7036510081018499,0.19957810939552545,-0.5097003799881863,-0.5527711665338034,-0.432988571530393,0.2259715788610307,0.1208658700302585,0.12215967625624415,0.10945607998552667,0.23596098493904605,-0.6755468603921287,-0.6495271894193025,-0.4246141204660603,0.1317911543516551,0.10971018372795388,0.21238343671447868,-0.20882465042410145,0.3323164623495637,-0.15235689084065077,-0.6749251857110816,0.17540219228170034,0.14125446386331708,0.1350006892856969,0.12715867157459954,0.10353387380978013,0.19584694187146487,-0.6892018227784636,0.12836233825136048,0.6687940557388371,0.12297934788109571,0.14114840154417005,0.11541941479004113,0.25125169357608584,0.5217938407498819,0.5960374987131589,-0.40031868140131166,0.14796869959664843,-0.46402296568796003,-0.5916177290491823,0.5998092254220799,0.4937978731344405,0.7077788824341272,0.13571498599071186,0.7297898996157183,0.10888808014721656,0.020413985345346677,0.19459700908506591,-0.45798040473863644,-0.47024543051992135,0.5607113013514007,0.8052429903015813,0.33036782898258976,-0.42527962375635725,-0.5137020981551247,-0.4702117390967852,-0.7323755691241225,0.5999642224840885,0.7248058644288464,-0.5754345971849768,-0.7556233524101679,0.14216587794520846,0.8395378369422897,-0.3182890458843081,0.7754602992012476,0.5263333478786965,0.49351869963463996,0.16157268747160355,0.11456239508438161,0.11854134935749405],\"y\":[-0.0749052051141785,-0.07162133527926624,0.9726551071962545,0.9505634950867857,0.4341632961150089,-0.09758380619772797,0.9663503802459795,-0.5995972800168028,-0.5779870451356708,-0.38968685828677535,-0.6130947934626346,-0.45800727630404214,-0.565728814059353,-0.39316435398651767,-0.5809332937953029,0.6975252125971125,0.7384742897622936,0.7794920952788464,0.6397047375358897,0.9305634003265382,-0.5464220033666659,-0.39108858748774444,-0.4537309485137021,-0.14732424752841553,-0.15619276401848667,-0.4959234458913675,-0.520929235048008,-0.5787222363946254,0.061094286438589135,0.06826778449612825,0.05870828780666133,0.02397792026057352,0.023640535685093403,0.6368562203533322,0.6405960444729041,-0.41305889280836355,-0.5018311657570313,-0.38924313682102163,-0.5922375813722659,-0.54156001667804,-0.6076259838985477,-0.47974632624752434,-0.40385594610345094,-0.4867359104773417,0.06660247054854182,0.3828801401415886,0.4673227063019006,-0.419073559874361,-0.40202893495083336,-0.419086483347089,-0.6247056794661728,-0.5638663224903907,0.7016337490354333,0.7854870715771007,0.9185234847920299,0.2888700504135961,0.9718571790240962,-0.39428423984643474,0.6987591486013931,0.9961287886954597,0.40427349881622116,-0.5663890454268253,0.4978579329623463,0.15470221136724105,0.8422681993699284,-0.46882703156359684,0.1519290723677125,0.17594630699533031,-0.5065047185055747,0.15705831220145036,-0.4230811251614116,-0.5008253001040253,0.6580563589308709,0.6410618746770256,0.2710816754358755,0.294710987767596,-0.529769647342517,-0.5333673000783894,-0.11193422604830829,-0.4812633690948396,-0.47975751590316296,0.9285426459020714,0.9095415628188582,0.06380432116616958,0.06357784712844212,0.05891067417819973,0.7253857491817092,-0.4055284081364344,-0.4972454007967121,-0.4454880460788997,-0.5374671593952338,-0.47646186641107363,-0.5115726085597163,-0.5847033973275736,-0.059667661462076124,-0.09614364099665487,0.3146283242031642,-0.6183101746475159,-0.55407683666319,0.011030221693043588,-0.013400408468958265,-0.42620894637661366,-0.5861205584567205,-0.5763077003068618,-0.4960011841755005,0.283258371321397,0.332823414584173,0.6907734218290034,0.8738073067163351,0.69116658437042,0.24310183187149711,-0.49083984188270985,-0.2555362352069483,-0.33178155182735053,-0.48141243756741664,-0.3682099402879459,-0.40071000782718064,0.6819292576212518,-0.6062137318911424,-0.48386888868729555,-0.44864563498102494,-0.4125725290481236,-0.5187854997729962,0.4884056435261588,0.48835173573517165,-0.3023332022088756,-0.3799626381653377,-0.5137808601897035,-0.4915709090055107,0.32253750964275874,0.9718294538482658,-0.6033425996349626,0.5715566286132212,-0.4539436436008122,-0.3783155946456282,-0.4094273790586129,-0.4039595178275678,-0.40048620071171753,-0.496976859773181,0.2673676369899918,-0.5806893863468299,0.07370503914271738,-0.3831199805505054,-0.46405064028898885,-0.5342033002335043,-0.5845494841199034,0.7231219191323474,0.8089662766177831,0.608824972762088,-0.5307201779699202,0.6385399734840088,0.7708764611256547,0.6726374091197228,0.8015345181123458,0.546984355051324,-0.5525873999129977,0.1673135412601096,-0.4803738677531889,0.9999999999999999,-0.6295511005407309,0.6720845898502117,0.6617097200363083,0.057487849880457395,0.3942566340480586,-0.2765336048093287,0.7366942667303692,0.878030470176274,-0.09356563445572035,-0.19242493125895668,0.556287915943366,0.6545277940879418,-0.15392020663485317,-0.22607916828238694,-0.4436525333690485,0.24382411153356548,0.9414653887603879,0.4888843556060612,0.7108890683568461,0.718637125154018,-0.5176857212220575,-0.38423495639944216,-0.5606334271290452],\"type\":\"scatter\"}],                        {\"annotations\":[{\"showarrow\":false,\"text\":\"Python code for plotting Twitter mention network with plotly\",\"x\":0.005,\"xref\":\"paper\",\"y\":-0.002,\"yref\":\"paper\"}],\"hovermode\":\"closest\",\"margin\":{\"b\":20,\"l\":5,\"r\":5,\"t\":40},\"showlegend\":false,\"title\":{\"font\":{\"size\":16},\"text\":\"Twitter Mention Network\"},\"xaxis\":{\"showgrid\":false,\"showticklabels\":false,\"zeroline\":false},\"yaxis\":{\"showgrid\":false,\"showticklabels\":false,\"zeroline\":false},\"template\":{\"data\":{\"histogram2dcontour\":[{\"type\":\"histogram2dcontour\",\"colorbar\":{\"outlinewidth\":0,\"ticks\":\"\"},\"colorscale\":[[0.0,\"#0d0887\"],[0.1111111111111111,\"#46039f\"],[0.2222222222222222,\"#7201a8\"],[0.3333333333333333,\"#9c179e\"],[0.4444444444444444,\"#bd3786\"],[0.5555555555555556,\"#d8576b\"],[0.6666666666666666,\"#ed7953\"],[0.7777777777777778,\"#fb9f3a\"],[0.8888888888888888,\"#fdca26\"],[1.0,\"#f0f921\"]]}],\"choropleth\":[{\"type\":\"choropleth\",\"colorbar\":{\"outlinewidth\":0,\"ticks\":\"\"}}],\"histogram2d\":[{\"type\":\"histogram2d\",\"colorbar\":{\"outlinewidth\":0,\"ticks\":\"\"},\"colorscale\":[[0.0,\"#0d0887\"],[0.1111111111111111,\"#46039f\"],[0.2222222222222222,\"#7201a8\"],[0.3333333333333333,\"#9c179e\"],[0.4444444444444444,\"#bd3786\"],[0.5555555555555556,\"#d8576b\"],[0.6666666666666666,\"#ed7953\"],[0.7777777777777778,\"#fb9f3a\"],[0.8888888888888888,\"#fdca26\"],[1.0,\"#f0f921\"]]}],\"heatmap\":[{\"type\":\"heatmap\",\"colorbar\":{\"outlinewidth\":0,\"ticks\":\"\"},\"colorscale\":[[0.0,\"#0d0887\"],[0.1111111111111111,\"#46039f\"],[0.2222222222222222,\"#7201a8\"],[0.3333333333333333,\"#9c179e\"],[0.4444444444444444,\"#bd3786\"],[0.5555555555555556,\"#d8576b\"],[0.6666666666666666,\"#ed7953\"],[0.7777777777777778,\"#fb9f3a\"],[0.8888888888888888,\"#fdca26\"],[1.0,\"#f0f921\"]]}],\"heatmapgl\":[{\"type\":\"heatmapgl\",\"colorbar\":{\"outlinewidth\":0,\"ticks\":\"\"},\"colorscale\":[[0.0,\"#0d0887\"],[0.1111111111111111,\"#46039f\"],[0.2222222222222222,\"#7201a8\"],[0.3333333333333333,\"#9c179e\"],[0.4444444444444444,\"#bd3786\"],[0.5555555555555556,\"#d8576b\"],[0.6666666666666666,\"#ed7953\"],[0.7777777777777778,\"#fb9f3a\"],[0.8888888888888888,\"#fdca26\"],[1.0,\"#f0f921\"]]}],\"contourcarpet\":[{\"type\":\"contourcarpet\",\"colorbar\":{\"outlinewidth\":0,\"ticks\":\"\"}}],\"contour\":[{\"type\":\"contour\",\"colorbar\":{\"outlinewidth\":0,\"ticks\":\"\"},\"colorscale\":[[0.0,\"#0d0887\"],[0.1111111111111111,\"#46039f\"],[0.2222222222222222,\"#7201a8\"],[0.3333333333333333,\"#9c179e\"],[0.4444444444444444,\"#bd3786\"],[0.5555555555555556,\"#d8576b\"],[0.6666666666666666,\"#ed7953\"],[0.7777777777777778,\"#fb9f3a\"],[0.8888888888888888,\"#fdca26\"],[1.0,\"#f0f921\"]]}],\"surface\":[{\"type\":\"surface\",\"colorbar\":{\"outlinewidth\":0,\"ticks\":\"\"},\"colorscale\":[[0.0,\"#0d0887\"],[0.1111111111111111,\"#46039f\"],[0.2222222222222222,\"#7201a8\"],[0.3333333333333333,\"#9c179e\"],[0.4444444444444444,\"#bd3786\"],[0.5555555555555556,\"#d8576b\"],[0.6666666666666666,\"#ed7953\"],[0.7777777777777778,\"#fb9f3a\"],[0.8888888888888888,\"#fdca26\"],[1.0,\"#f0f921\"]]}],\"mesh3d\":[{\"type\":\"mesh3d\",\"colorbar\":{\"outlinewidth\":0,\"ticks\":\"\"}}],\"scatter\":[{\"fillpattern\":{\"fillmode\":\"overlay\",\"size\":10,\"solidity\":0.2},\"type\":\"scatter\"}],\"parcoords\":[{\"type\":\"parcoords\",\"line\":{\"colorbar\":{\"outlinewidth\":0,\"ticks\":\"\"}}}],\"scatterpolargl\":[{\"type\":\"scatterpolargl\",\"marker\":{\"colorbar\":{\"outlinewidth\":0,\"ticks\":\"\"}}}],\"bar\":[{\"error_x\":{\"color\":\"#2a3f5f\"},\"error_y\":{\"color\":\"#2a3f5f\"},\"marker\":{\"line\":{\"color\":\"#E5ECF6\",\"width\":0.5},\"pattern\":{\"fillmode\":\"overlay\",\"size\":10,\"solidity\":0.2}},\"type\":\"bar\"}],\"scattergeo\":[{\"type\":\"scattergeo\",\"marker\":{\"colorbar\":{\"outlinewidth\":0,\"ticks\":\"\"}}}],\"scatterpolar\":[{\"type\":\"scatterpolar\",\"marker\":{\"colorbar\":{\"outlinewidth\":0,\"ticks\":\"\"}}}],\"histogram\":[{\"marker\":{\"pattern\":{\"fillmode\":\"overlay\",\"size\":10,\"solidity\":0.2}},\"type\":\"histogram\"}],\"scattergl\":[{\"type\":\"scattergl\",\"marker\":{\"colorbar\":{\"outlinewidth\":0,\"ticks\":\"\"}}}],\"scatter3d\":[{\"type\":\"scatter3d\",\"line\":{\"colorbar\":{\"outlinewidth\":0,\"ticks\":\"\"}},\"marker\":{\"colorbar\":{\"outlinewidth\":0,\"ticks\":\"\"}}}],\"scattermapbox\":[{\"type\":\"scattermapbox\",\"marker\":{\"colorbar\":{\"outlinewidth\":0,\"ticks\":\"\"}}}],\"scatterternary\":[{\"type\":\"scatterternary\",\"marker\":{\"colorbar\":{\"outlinewidth\":0,\"ticks\":\"\"}}}],\"scattercarpet\":[{\"type\":\"scattercarpet\",\"marker\":{\"colorbar\":{\"outlinewidth\":0,\"ticks\":\"\"}}}],\"carpet\":[{\"aaxis\":{\"endlinecolor\":\"#2a3f5f\",\"gridcolor\":\"white\",\"linecolor\":\"white\",\"minorgridcolor\":\"white\",\"startlinecolor\":\"#2a3f5f\"},\"baxis\":{\"endlinecolor\":\"#2a3f5f\",\"gridcolor\":\"white\",\"linecolor\":\"white\",\"minorgridcolor\":\"white\",\"startlinecolor\":\"#2a3f5f\"},\"type\":\"carpet\"}],\"table\":[{\"cells\":{\"fill\":{\"color\":\"#EBF0F8\"},\"line\":{\"color\":\"white\"}},\"header\":{\"fill\":{\"color\":\"#C8D4E3\"},\"line\":{\"color\":\"white\"}},\"type\":\"table\"}],\"barpolar\":[{\"marker\":{\"line\":{\"color\":\"#E5ECF6\",\"width\":0.5},\"pattern\":{\"fillmode\":\"overlay\",\"size\":10,\"solidity\":0.2}},\"type\":\"barpolar\"}],\"pie\":[{\"automargin\":true,\"type\":\"pie\"}]},\"layout\":{\"autotypenumbers\":\"strict\",\"colorway\":[\"#636efa\",\"#EF553B\",\"#00cc96\",\"#ab63fa\",\"#FFA15A\",\"#19d3f3\",\"#FF6692\",\"#B6E880\",\"#FF97FF\",\"#FECB52\"],\"font\":{\"color\":\"#2a3f5f\"},\"hovermode\":\"closest\",\"hoverlabel\":{\"align\":\"left\"},\"paper_bgcolor\":\"white\",\"plot_bgcolor\":\"#E5ECF6\",\"polar\":{\"bgcolor\":\"#E5ECF6\",\"angularaxis\":{\"gridcolor\":\"white\",\"linecolor\":\"white\",\"ticks\":\"\"},\"radialaxis\":{\"gridcolor\":\"white\",\"linecolor\":\"white\",\"ticks\":\"\"}},\"ternary\":{\"bgcolor\":\"#E5ECF6\",\"aaxis\":{\"gridcolor\":\"white\",\"linecolor\":\"white\",\"ticks\":\"\"},\"baxis\":{\"gridcolor\":\"white\",\"linecolor\":\"white\",\"ticks\":\"\"},\"caxis\":{\"gridcolor\":\"white\",\"linecolor\":\"white\",\"ticks\":\"\"}},\"coloraxis\":{\"colorbar\":{\"outlinewidth\":0,\"ticks\":\"\"}},\"colorscale\":{\"sequential\":[[0.0,\"#0d0887\"],[0.1111111111111111,\"#46039f\"],[0.2222222222222222,\"#7201a8\"],[0.3333333333333333,\"#9c179e\"],[0.4444444444444444,\"#bd3786\"],[0.5555555555555556,\"#d8576b\"],[0.6666666666666666,\"#ed7953\"],[0.7777777777777778,\"#fb9f3a\"],[0.8888888888888888,\"#fdca26\"],[1.0,\"#f0f921\"]],\"sequentialminus\":[[0.0,\"#0d0887\"],[0.1111111111111111,\"#46039f\"],[0.2222222222222222,\"#7201a8\"],[0.3333333333333333,\"#9c179e\"],[0.4444444444444444,\"#bd3786\"],[0.5555555555555556,\"#d8576b\"],[0.6666666666666666,\"#ed7953\"],[0.7777777777777778,\"#fb9f3a\"],[0.8888888888888888,\"#fdca26\"],[1.0,\"#f0f921\"]],\"diverging\":[[0,\"#8e0152\"],[0.1,\"#c51b7d\"],[0.2,\"#de77ae\"],[0.3,\"#f1b6da\"],[0.4,\"#fde0ef\"],[0.5,\"#f7f7f7\"],[0.6,\"#e6f5d0\"],[0.7,\"#b8e186\"],[0.8,\"#7fbc41\"],[0.9,\"#4d9221\"],[1,\"#276419\"]]},\"xaxis\":{\"gridcolor\":\"white\",\"linecolor\":\"white\",\"ticks\":\"\",\"title\":{\"standoff\":15},\"zerolinecolor\":\"white\",\"automargin\":true,\"zerolinewidth\":2},\"yaxis\":{\"gridcolor\":\"white\",\"linecolor\":\"white\",\"ticks\":\"\",\"title\":{\"standoff\":15},\"zerolinecolor\":\"white\",\"automargin\":true,\"zerolinewidth\":2},\"scene\":{\"xaxis\":{\"backgroundcolor\":\"#E5ECF6\",\"gridcolor\":\"white\",\"linecolor\":\"white\",\"showbackground\":true,\"ticks\":\"\",\"zerolinecolor\":\"white\",\"gridwidth\":2},\"yaxis\":{\"backgroundcolor\":\"#E5ECF6\",\"gridcolor\":\"white\",\"linecolor\":\"white\",\"showbackground\":true,\"ticks\":\"\",\"zerolinecolor\":\"white\",\"gridwidth\":2},\"zaxis\":{\"backgroundcolor\":\"#E5ECF6\",\"gridcolor\":\"white\",\"linecolor\":\"white\",\"showbackground\":true,\"ticks\":\"\",\"zerolinecolor\":\"white\",\"gridwidth\":2}},\"shapedefaults\":{\"line\":{\"color\":\"#2a3f5f\"}},\"annotationdefaults\":{\"arrowcolor\":\"#2a3f5f\",\"arrowhead\":0,\"arrowwidth\":1},\"geo\":{\"bgcolor\":\"white\",\"landcolor\":\"#E5ECF6\",\"subunitcolor\":\"white\",\"showland\":true,\"showlakes\":true,\"lakecolor\":\"white\"},\"title\":{\"x\":0.05},\"mapbox\":{\"style\":\"light\"}}}},                        {\"responsive\": true}                    ).then(function(){\n",
              "                            \n",
              "var gd = document.getElementById('2e2efe67-4c9a-4d5f-aa4d-3947bf16e507');\n",
              "var x = new MutationObserver(function (mutations, observer) {{\n",
              "        var display = window.getComputedStyle(gd).display;\n",
              "        if (!display || display === 'none') {{\n",
              "            console.log([gd, 'removed!']);\n",
              "            Plotly.purge(gd);\n",
              "            observer.disconnect();\n",
              "        }}\n",
              "}});\n",
              "\n",
              "// Listen for the removal of the full notebook cells\n",
              "var notebookContainer = gd.closest('#notebook-container');\n",
              "if (notebookContainer) {{\n",
              "    x.observe(notebookContainer, {childList: true});\n",
              "}}\n",
              "\n",
              "// Listen for the clearing of the current output cell\n",
              "var outputEl = gd.closest('.output');\n",
              "if (outputEl) {{\n",
              "    x.observe(outputEl, {childList: true});\n",
              "}}\n",
              "\n",
              "                        })                };                            </script>        </div>\n",
              "</body>\n",
              "</html>"
            ]
          },
          "metadata": {}
        }
      ]
    },
    {
      "cell_type": "markdown",
      "metadata": {
        "id": "dd35759e"
      },
      "source": [
        "## Summary:\n",
        "\n",
        "### Data Analysis Key Findings\n",
        "\n",
        "*   An interactive network visualization of the Twitter mention network was successfully created using Plotly.\n",
        "*   Node size in the visualization represents the degree centrality of the user, scaled for better visibility.\n",
        "*   Node color in the visualization represents the betweenness centrality of the user, using a 'YlGnBu' colorscale.\n",
        "*   Hovering over nodes reveals the username, degree centrality, and betweenness centrality for that node.\n",
        "\n",
        "### Insights or Next Steps\n",
        "\n",
        "*   The visualization provides a clear interactive representation of the Twitter mention network structure and the influence of individual users based on their centrality measures.\n",
        "*   Future analysis could involve exploring other centrality measures or adding edge attributes to the visualization for a richer understanding of the network dynamics.\n"
      ]
    }
  ]
}